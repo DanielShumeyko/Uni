{
 "cells": [
  {
   "cell_type": "code",
   "execution_count": 1,
   "metadata": {},
   "outputs": [],
   "source": [
    "import pandas as pd\n",
    "import numpy as np\n",
    "import seaborn as sns\n",
    "import datetime"
   ]
  },
  {
   "cell_type": "code",
   "execution_count": 2,
   "metadata": {},
   "outputs": [],
   "source": [
    "df_hc = pd.read_csv('poe_ladder_hc.csv')\n",
    "df_sc = pd.read_csv('poe_ladder_sc.csv')"
   ]
  },
  {
   "cell_type": "code",
   "execution_count": 3,
   "metadata": {},
   "outputs": [
    {
     "data": {
      "text/html": [
       "<div>\n",
       "<style scoped>\n",
       "    .dataframe tbody tr th:only-of-type {\n",
       "        vertical-align: middle;\n",
       "    }\n",
       "\n",
       "    .dataframe tbody tr th {\n",
       "        vertical-align: top;\n",
       "    }\n",
       "\n",
       "    .dataframe thead th {\n",
       "        text-align: right;\n",
       "    }\n",
       "</style>\n",
       "<table border=\"1\" class=\"dataframe\">\n",
       "  <thead>\n",
       "    <tr style=\"text-align: right;\">\n",
       "      <th></th>\n",
       "      <th>rank</th>\n",
       "      <th>dead</th>\n",
       "      <th>online</th>\n",
       "      <th>character/id</th>\n",
       "      <th>character/name</th>\n",
       "      <th>character/level</th>\n",
       "      <th>character/class</th>\n",
       "      <th>character/experience</th>\n",
       "      <th>character/depth/default</th>\n",
       "      <th>character/depth/solo</th>\n",
       "      <th>account/name</th>\n",
       "      <th>account/realm</th>\n",
       "      <th>account/challenges/total</th>\n",
       "      <th>account/twitch/name</th>\n",
       "      <th>account/twitch/stream/name</th>\n",
       "      <th>account/twitch/stream/image</th>\n",
       "      <th>account/twitch/stream/status</th>\n",
       "      <th>character/score</th>\n",
       "    </tr>\n",
       "  </thead>\n",
       "  <tbody>\n",
       "    <tr>\n",
       "      <th>0</th>\n",
       "      <td>1</td>\n",
       "      <td>False</td>\n",
       "      <td>True</td>\n",
       "      <td>9abc423c0235c788db43c4c5cc74d4c6073ec64b0269a5...</td>\n",
       "      <td>Azimut_nHEISTits</td>\n",
       "      <td>100</td>\n",
       "      <td>Guardian</td>\n",
       "      <td>4250334444</td>\n",
       "      <td>2.0</td>\n",
       "      <td>0.0</td>\n",
       "      <td>blazedance</td>\n",
       "      <td>pc</td>\n",
       "      <td>40</td>\n",
       "      <td>az1mut</td>\n",
       "      <td>NaN</td>\n",
       "      <td>NaN</td>\n",
       "      <td>NaN</td>\n",
       "      <td>NaN</td>\n",
       "    </tr>\n",
       "    <tr>\n",
       "      <th>1</th>\n",
       "      <td>2</td>\n",
       "      <td>False</td>\n",
       "      <td>True</td>\n",
       "      <td>e32a3ed26058f7519254a7b061ee8c5f7edb914850d878...</td>\n",
       "      <td>Toaster_nHEISTits</td>\n",
       "      <td>100</td>\n",
       "      <td>Assassin</td>\n",
       "      <td>4250334444</td>\n",
       "      <td>200.0</td>\n",
       "      <td>0.0</td>\n",
       "      <td>Toaster404</td>\n",
       "      <td>pc</td>\n",
       "      <td>37</td>\n",
       "      <td>toaster404</td>\n",
       "      <td>Toaster404</td>\n",
       "      <td>https://static-cdn.jtvnw.net/previews-ttv/live...</td>\n",
       "      <td>| HC Trade | Chillymilly with Delirium |</td>\n",
       "      <td>NaN</td>\n",
       "    </tr>\n",
       "    <tr>\n",
       "      <th>2</th>\n",
       "      <td>3</td>\n",
       "      <td>False</td>\n",
       "      <td>True</td>\n",
       "      <td>f4e5d4a2108777edfcd46299903e10b3f2cb298000b366...</td>\n",
       "      <td>TesuckSuicideBoy</td>\n",
       "      <td>100</td>\n",
       "      <td>Trickster</td>\n",
       "      <td>4250334444</td>\n",
       "      <td>102.0</td>\n",
       "      <td>102.0</td>\n",
       "      <td>homffrontt</td>\n",
       "      <td>pc</td>\n",
       "      <td>13</td>\n",
       "      <td>homffront</td>\n",
       "      <td>NaN</td>\n",
       "      <td>NaN</td>\n",
       "      <td>NaN</td>\n",
       "      <td>112.0</td>\n",
       "    </tr>\n",
       "    <tr>\n",
       "      <th>3</th>\n",
       "      <td>4</td>\n",
       "      <td>False</td>\n",
       "      <td>False</td>\n",
       "      <td>90b831d40227de0a441a9b418b8914792619d3039b9af3...</td>\n",
       "      <td>Nuclearhc</td>\n",
       "      <td>100</td>\n",
       "      <td>Occultist</td>\n",
       "      <td>4250334444</td>\n",
       "      <td>480.0</td>\n",
       "      <td>480.0</td>\n",
       "      <td>MakiseKurisuBestWaifu</td>\n",
       "      <td>pc</td>\n",
       "      <td>21</td>\n",
       "      <td>nucl3arhc</td>\n",
       "      <td>NaN</td>\n",
       "      <td>NaN</td>\n",
       "      <td>NaN</td>\n",
       "      <td>27.0</td>\n",
       "    </tr>\n",
       "    <tr>\n",
       "      <th>4</th>\n",
       "      <td>5</td>\n",
       "      <td>False</td>\n",
       "      <td>True</td>\n",
       "      <td>353428b0c746f2bd6b9b01bef9384922a29412f520d2a7...</td>\n",
       "      <td>SHKOSSS</td>\n",
       "      <td>100</td>\n",
       "      <td>Trickster</td>\n",
       "      <td>4250334444</td>\n",
       "      <td>205.0</td>\n",
       "      <td>205.0</td>\n",
       "      <td>FairyLawQ</td>\n",
       "      <td>pc</td>\n",
       "      <td>19</td>\n",
       "      <td>shanksss</td>\n",
       "      <td>NaN</td>\n",
       "      <td>NaN</td>\n",
       "      <td>NaN</td>\n",
       "      <td>17.0</td>\n",
       "    </tr>\n",
       "    <tr>\n",
       "      <th>5</th>\n",
       "      <td>6</td>\n",
       "      <td>True</td>\n",
       "      <td>False</td>\n",
       "      <td>8d860d5747a76af10ed1266472501f3690ca4841e5eb90...</td>\n",
       "      <td>fÍxÍtิ_ajaoghwaosasf</td>\n",
       "      <td>100</td>\n",
       "      <td>Assassin</td>\n",
       "      <td>4250334444</td>\n",
       "      <td>52.0</td>\n",
       "      <td>0.0</td>\n",
       "      <td>fix1t_l2p</td>\n",
       "      <td>pc</td>\n",
       "      <td>22</td>\n",
       "      <td>NaN</td>\n",
       "      <td>NaN</td>\n",
       "      <td>NaN</td>\n",
       "      <td>NaN</td>\n",
       "      <td>17.0</td>\n",
       "    </tr>\n",
       "    <tr>\n",
       "      <th>6</th>\n",
       "      <td>7</td>\n",
       "      <td>False</td>\n",
       "      <td>True</td>\n",
       "      <td>a5966becec44bdce2c3fc92f54b2bde14c6d1eaa75ccd2...</td>\n",
       "      <td>KyKiske_ajaoghwaosasf</td>\n",
       "      <td>100</td>\n",
       "      <td>Guardian</td>\n",
       "      <td>4250334444</td>\n",
       "      <td>NaN</td>\n",
       "      <td>NaN</td>\n",
       "      <td>KyK1ske</td>\n",
       "      <td>pc</td>\n",
       "      <td>26</td>\n",
       "      <td>kyk1ske</td>\n",
       "      <td>NaN</td>\n",
       "      <td>NaN</td>\n",
       "      <td>NaN</td>\n",
       "      <td>28.0</td>\n",
       "    </tr>\n",
       "    <tr>\n",
       "      <th>7</th>\n",
       "      <td>8</td>\n",
       "      <td>True</td>\n",
       "      <td>False</td>\n",
       "      <td>829cd8237db6e82e081ba1046a28e95c304d4b1bb29119...</td>\n",
       "      <td>marvyxd</td>\n",
       "      <td>100</td>\n",
       "      <td>Trickster</td>\n",
       "      <td>4250334444</td>\n",
       "      <td>183.0</td>\n",
       "      <td>183.0</td>\n",
       "      <td>marvyu</td>\n",
       "      <td>pc</td>\n",
       "      <td>24</td>\n",
       "      <td>marvyaql</td>\n",
       "      <td>NaN</td>\n",
       "      <td>NaN</td>\n",
       "      <td>NaN</td>\n",
       "      <td>17.0</td>\n",
       "    </tr>\n",
       "    <tr>\n",
       "      <th>8</th>\n",
       "      <td>9</td>\n",
       "      <td>True</td>\n",
       "      <td>True</td>\n",
       "      <td>09ab8f924287724a7e35e9ce042c11334cd327ce161a5a...</td>\n",
       "      <td>DAD_DICK_BACKPACK_GAMER</td>\n",
       "      <td>100</td>\n",
       "      <td>Trickster</td>\n",
       "      <td>4250334444</td>\n",
       "      <td>33.0</td>\n",
       "      <td>0.0</td>\n",
       "      <td>LVC</td>\n",
       "      <td>pc</td>\n",
       "      <td>8</td>\n",
       "      <td>NaN</td>\n",
       "      <td>NaN</td>\n",
       "      <td>NaN</td>\n",
       "      <td>NaN</td>\n",
       "      <td>5.0</td>\n",
       "    </tr>\n",
       "    <tr>\n",
       "      <th>9</th>\n",
       "      <td>10</td>\n",
       "      <td>False</td>\n",
       "      <td>True</td>\n",
       "      <td>6e9bdf1500a2d3707a5294c8196083b0d341dbe8a098cd...</td>\n",
       "      <td>FCㄹ_PPV_HITUJIHA</td>\n",
       "      <td>100</td>\n",
       "      <td>Champion</td>\n",
       "      <td>4250334444</td>\n",
       "      <td>245.0</td>\n",
       "      <td>245.0</td>\n",
       "      <td>derris_</td>\n",
       "      <td>pc</td>\n",
       "      <td>36</td>\n",
       "      <td>derris_</td>\n",
       "      <td>NaN</td>\n",
       "      <td>NaN</td>\n",
       "      <td>NaN</td>\n",
       "      <td>NaN</td>\n",
       "    </tr>\n",
       "  </tbody>\n",
       "</table>\n",
       "</div>"
      ],
      "text/plain": [
       "   rank   dead  online                                       character/id  \\\n",
       "0     1  False    True  9abc423c0235c788db43c4c5cc74d4c6073ec64b0269a5...   \n",
       "1     2  False    True  e32a3ed26058f7519254a7b061ee8c5f7edb914850d878...   \n",
       "2     3  False    True  f4e5d4a2108777edfcd46299903e10b3f2cb298000b366...   \n",
       "3     4  False   False  90b831d40227de0a441a9b418b8914792619d3039b9af3...   \n",
       "4     5  False    True  353428b0c746f2bd6b9b01bef9384922a29412f520d2a7...   \n",
       "5     6   True   False  8d860d5747a76af10ed1266472501f3690ca4841e5eb90...   \n",
       "6     7  False    True  a5966becec44bdce2c3fc92f54b2bde14c6d1eaa75ccd2...   \n",
       "7     8   True   False  829cd8237db6e82e081ba1046a28e95c304d4b1bb29119...   \n",
       "8     9   True    True  09ab8f924287724a7e35e9ce042c11334cd327ce161a5a...   \n",
       "9    10  False    True  6e9bdf1500a2d3707a5294c8196083b0d341dbe8a098cd...   \n",
       "\n",
       "            character/name  character/level character/class  \\\n",
       "0         Azimut_nHEISTits              100        Guardian   \n",
       "1        Toaster_nHEISTits              100        Assassin   \n",
       "2         TesuckSuicideBoy              100       Trickster   \n",
       "3                Nuclearhc              100       Occultist   \n",
       "4                  SHKOSSS              100       Trickster   \n",
       "5     fÍxÍtิ_ajaoghwaosasf              100        Assassin   \n",
       "6    KyKiske_ajaoghwaosasf              100        Guardian   \n",
       "7                  marvyxd              100       Trickster   \n",
       "8  DAD_DICK_BACKPACK_GAMER              100       Trickster   \n",
       "9         FCㄹ_PPV_HITUJIHA              100        Champion   \n",
       "\n",
       "   character/experience  character/depth/default  character/depth/solo  \\\n",
       "0            4250334444                      2.0                   0.0   \n",
       "1            4250334444                    200.0                   0.0   \n",
       "2            4250334444                    102.0                 102.0   \n",
       "3            4250334444                    480.0                 480.0   \n",
       "4            4250334444                    205.0                 205.0   \n",
       "5            4250334444                     52.0                   0.0   \n",
       "6            4250334444                      NaN                   NaN   \n",
       "7            4250334444                    183.0                 183.0   \n",
       "8            4250334444                     33.0                   0.0   \n",
       "9            4250334444                    245.0                 245.0   \n",
       "\n",
       "            account/name account/realm  account/challenges/total  \\\n",
       "0             blazedance            pc                        40   \n",
       "1             Toaster404            pc                        37   \n",
       "2             homffrontt            pc                        13   \n",
       "3  MakiseKurisuBestWaifu            pc                        21   \n",
       "4              FairyLawQ            pc                        19   \n",
       "5              fix1t_l2p            pc                        22   \n",
       "6                KyK1ske            pc                        26   \n",
       "7                 marvyu            pc                        24   \n",
       "8                    LVC            pc                         8   \n",
       "9                derris_            pc                        36   \n",
       "\n",
       "  account/twitch/name account/twitch/stream/name  \\\n",
       "0              az1mut                        NaN   \n",
       "1          toaster404                 Toaster404   \n",
       "2           homffront                        NaN   \n",
       "3           nucl3arhc                        NaN   \n",
       "4            shanksss                        NaN   \n",
       "5                 NaN                        NaN   \n",
       "6             kyk1ske                        NaN   \n",
       "7            marvyaql                        NaN   \n",
       "8                 NaN                        NaN   \n",
       "9             derris_                        NaN   \n",
       "\n",
       "                         account/twitch/stream/image  \\\n",
       "0                                                NaN   \n",
       "1  https://static-cdn.jtvnw.net/previews-ttv/live...   \n",
       "2                                                NaN   \n",
       "3                                                NaN   \n",
       "4                                                NaN   \n",
       "5                                                NaN   \n",
       "6                                                NaN   \n",
       "7                                                NaN   \n",
       "8                                                NaN   \n",
       "9                                                NaN   \n",
       "\n",
       "               account/twitch/stream/status  character/score  \n",
       "0                                       NaN              NaN  \n",
       "1  | HC Trade | Chillymilly with Delirium |              NaN  \n",
       "2                                       NaN            112.0  \n",
       "3                                       NaN             27.0  \n",
       "4                                       NaN             17.0  \n",
       "5                                       NaN             17.0  \n",
       "6                                       NaN             28.0  \n",
       "7                                       NaN             17.0  \n",
       "8                                       NaN              5.0  \n",
       "9                                       NaN              NaN  "
      ]
     },
     "execution_count": 3,
     "metadata": {},
     "output_type": "execute_result"
    }
   ],
   "source": [
    "df_hc.head(10)"
   ]
  },
  {
   "cell_type": "code",
   "execution_count": 4,
   "metadata": {
    "scrolled": false
   },
   "outputs": [
    {
     "data": {
      "text/html": [
       "<div>\n",
       "<style scoped>\n",
       "    .dataframe tbody tr th:only-of-type {\n",
       "        vertical-align: middle;\n",
       "    }\n",
       "\n",
       "    .dataframe tbody tr th {\n",
       "        vertical-align: top;\n",
       "    }\n",
       "\n",
       "    .dataframe thead th {\n",
       "        text-align: right;\n",
       "    }\n",
       "</style>\n",
       "<table border=\"1\" class=\"dataframe\">\n",
       "  <thead>\n",
       "    <tr style=\"text-align: right;\">\n",
       "      <th></th>\n",
       "      <th>rank</th>\n",
       "      <th>dead</th>\n",
       "      <th>online</th>\n",
       "      <th>character/id</th>\n",
       "      <th>character/name</th>\n",
       "      <th>character/level</th>\n",
       "      <th>character/class</th>\n",
       "      <th>character/score</th>\n",
       "      <th>character/experience</th>\n",
       "      <th>character/depth/default</th>\n",
       "      <th>character/depth/solo</th>\n",
       "      <th>account/name</th>\n",
       "      <th>account/realm</th>\n",
       "      <th>account/challenges/total</th>\n",
       "      <th>account/twitch/name</th>\n",
       "      <th>account/twitch/stream/name</th>\n",
       "      <th>account/twitch/stream/image</th>\n",
       "      <th>account/twitch/stream/status</th>\n",
       "    </tr>\n",
       "  </thead>\n",
       "  <tbody>\n",
       "    <tr>\n",
       "      <th>0</th>\n",
       "      <td>1</td>\n",
       "      <td>False</td>\n",
       "      <td>False</td>\n",
       "      <td>1ccd424aabfb385d20c306c3f6287dc58c4dfbed832e4e...</td>\n",
       "      <td>EchSinBojiy</td>\n",
       "      <td>100</td>\n",
       "      <td>Ascendant</td>\n",
       "      <td>16.0</td>\n",
       "      <td>4250334444</td>\n",
       "      <td>2.0</td>\n",
       "      <td>0.0</td>\n",
       "      <td>Echpoch</td>\n",
       "      <td>pc</td>\n",
       "      <td>11</td>\n",
       "      <td>NaN</td>\n",
       "      <td>NaN</td>\n",
       "      <td>NaN</td>\n",
       "      <td>NaN</td>\n",
       "    </tr>\n",
       "    <tr>\n",
       "      <th>1</th>\n",
       "      <td>2</td>\n",
       "      <td>False</td>\n",
       "      <td>False</td>\n",
       "      <td>f38fafd33ffdf3bea720a7b9e8d5763692ab86e1a6a325...</td>\n",
       "      <td>Lerris_Heist</td>\n",
       "      <td>100</td>\n",
       "      <td>Occultist</td>\n",
       "      <td>1.0</td>\n",
       "      <td>4250334444</td>\n",
       "      <td>NaN</td>\n",
       "      <td>NaN</td>\n",
       "      <td>BiologicalOrganism</td>\n",
       "      <td>pc</td>\n",
       "      <td>36</td>\n",
       "      <td>arclerris</td>\n",
       "      <td>NaN</td>\n",
       "      <td>NaN</td>\n",
       "      <td>NaN</td>\n",
       "    </tr>\n",
       "    <tr>\n",
       "      <th>2</th>\n",
       "      <td>3</td>\n",
       "      <td>False</td>\n",
       "      <td>False</td>\n",
       "      <td>6c4fe8205ece4fb47d47d2b14a5d4bb17ee6f095321f2e...</td>\n",
       "      <td>ㆍtvㆍgodlevelaccountㆍ</td>\n",
       "      <td>100</td>\n",
       "      <td>Deadeye</td>\n",
       "      <td>11.0</td>\n",
       "      <td>4250334444</td>\n",
       "      <td>NaN</td>\n",
       "      <td>NaN</td>\n",
       "      <td>GodLevelAccount</td>\n",
       "      <td>pc</td>\n",
       "      <td>7</td>\n",
       "      <td>godlevelaccount</td>\n",
       "      <td>NaN</td>\n",
       "      <td>NaN</td>\n",
       "      <td>NaN</td>\n",
       "    </tr>\n",
       "    <tr>\n",
       "      <th>3</th>\n",
       "      <td>4</td>\n",
       "      <td>False</td>\n",
       "      <td>True</td>\n",
       "      <td>1cec89b92eb22039cccb2d04763c4b537a2b100744c1d6...</td>\n",
       "      <td>Pink_BatCurglar</td>\n",
       "      <td>100</td>\n",
       "      <td>Trickster</td>\n",
       "      <td>NaN</td>\n",
       "      <td>4250334444</td>\n",
       "      <td>NaN</td>\n",
       "      <td>NaN</td>\n",
       "      <td>CrankyPants1</td>\n",
       "      <td>pc</td>\n",
       "      <td>26</td>\n",
       "      <td>pinkblt</td>\n",
       "      <td>NaN</td>\n",
       "      <td>NaN</td>\n",
       "      <td>NaN</td>\n",
       "    </tr>\n",
       "    <tr>\n",
       "      <th>4</th>\n",
       "      <td>5</td>\n",
       "      <td>False</td>\n",
       "      <td>True</td>\n",
       "      <td>a837cd759230f4e196d1645a95d933f15d9edc3c0d29c4...</td>\n",
       "      <td>Llew_BatCurglar</td>\n",
       "      <td>100</td>\n",
       "      <td>Guardian</td>\n",
       "      <td>13.0</td>\n",
       "      <td>4250334444</td>\n",
       "      <td>50.0</td>\n",
       "      <td>50.0</td>\n",
       "      <td>Kanveor</td>\n",
       "      <td>pc</td>\n",
       "      <td>25</td>\n",
       "      <td>mawrhugs</td>\n",
       "      <td>NaN</td>\n",
       "      <td>NaN</td>\n",
       "      <td>NaN</td>\n",
       "    </tr>\n",
       "    <tr>\n",
       "      <th>5</th>\n",
       "      <td>6</td>\n",
       "      <td>False</td>\n",
       "      <td>False</td>\n",
       "      <td>42c64a565ee82d2c1c67178d4b080241b49f6b651e0c50...</td>\n",
       "      <td>Broox_BatCurglar</td>\n",
       "      <td>100</td>\n",
       "      <td>Occultist</td>\n",
       "      <td>NaN</td>\n",
       "      <td>4250334444</td>\n",
       "      <td>NaN</td>\n",
       "      <td>NaN</td>\n",
       "      <td>Broox</td>\n",
       "      <td>pc</td>\n",
       "      <td>15</td>\n",
       "      <td>multibroox</td>\n",
       "      <td>NaN</td>\n",
       "      <td>NaN</td>\n",
       "      <td>NaN</td>\n",
       "    </tr>\n",
       "    <tr>\n",
       "      <th>6</th>\n",
       "      <td>7</td>\n",
       "      <td>False</td>\n",
       "      <td>False</td>\n",
       "      <td>6946deaecc721c0d1558907440cbdc0234ecf444585f5a...</td>\n",
       "      <td>zanba_heist_ncg</td>\n",
       "      <td>100</td>\n",
       "      <td>Pathfinder</td>\n",
       "      <td>3.0</td>\n",
       "      <td>4250334444</td>\n",
       "      <td>NaN</td>\n",
       "      <td>NaN</td>\n",
       "      <td>RQVandal</td>\n",
       "      <td>pc</td>\n",
       "      <td>24</td>\n",
       "      <td>vandal_z</td>\n",
       "      <td>NaN</td>\n",
       "      <td>NaN</td>\n",
       "      <td>NaN</td>\n",
       "    </tr>\n",
       "    <tr>\n",
       "      <th>7</th>\n",
       "      <td>8</td>\n",
       "      <td>False</td>\n",
       "      <td>True</td>\n",
       "      <td>e540c36c91fecf4be765b1a61e12b367e812885a9bfff0...</td>\n",
       "      <td>Alone_어Dick트</td>\n",
       "      <td>100</td>\n",
       "      <td>Trickster</td>\n",
       "      <td>5.0</td>\n",
       "      <td>4250334444</td>\n",
       "      <td>290.0</td>\n",
       "      <td>257.0</td>\n",
       "      <td>12kk34322</td>\n",
       "      <td>pc</td>\n",
       "      <td>28</td>\n",
       "      <td>fpdlehs</td>\n",
       "      <td>NaN</td>\n",
       "      <td>NaN</td>\n",
       "      <td>NaN</td>\n",
       "    </tr>\n",
       "    <tr>\n",
       "      <th>8</th>\n",
       "      <td>9</td>\n",
       "      <td>False</td>\n",
       "      <td>False</td>\n",
       "      <td>584533f18a43aee1e75e60504755925c22a3de2d2c316e...</td>\n",
       "      <td>검은사막모바일_대양업데이트_어Dick트</td>\n",
       "      <td>100</td>\n",
       "      <td>Occultist</td>\n",
       "      <td>NaN</td>\n",
       "      <td>4250334444</td>\n",
       "      <td>NaN</td>\n",
       "      <td>NaN</td>\n",
       "      <td>러시디노</td>\n",
       "      <td>pc</td>\n",
       "      <td>4</td>\n",
       "      <td>NaN</td>\n",
       "      <td>NaN</td>\n",
       "      <td>NaN</td>\n",
       "      <td>NaN</td>\n",
       "    </tr>\n",
       "    <tr>\n",
       "      <th>9</th>\n",
       "      <td>10</td>\n",
       "      <td>False</td>\n",
       "      <td>False</td>\n",
       "      <td>0a43e76ebfedcfe87ef86101690c0bfa8e1e99e4f074d5...</td>\n",
       "      <td>MJ_어Dick트</td>\n",
       "      <td>100</td>\n",
       "      <td>Necromancer</td>\n",
       "      <td>NaN</td>\n",
       "      <td>4250334444</td>\n",
       "      <td>NaN</td>\n",
       "      <td>NaN</td>\n",
       "      <td>glodarm12</td>\n",
       "      <td>pc</td>\n",
       "      <td>7</td>\n",
       "      <td>NaN</td>\n",
       "      <td>NaN</td>\n",
       "      <td>NaN</td>\n",
       "      <td>NaN</td>\n",
       "    </tr>\n",
       "  </tbody>\n",
       "</table>\n",
       "</div>"
      ],
      "text/plain": [
       "   rank   dead  online                                       character/id  \\\n",
       "0     1  False   False  1ccd424aabfb385d20c306c3f6287dc58c4dfbed832e4e...   \n",
       "1     2  False   False  f38fafd33ffdf3bea720a7b9e8d5763692ab86e1a6a325...   \n",
       "2     3  False   False  6c4fe8205ece4fb47d47d2b14a5d4bb17ee6f095321f2e...   \n",
       "3     4  False    True  1cec89b92eb22039cccb2d04763c4b537a2b100744c1d6...   \n",
       "4     5  False    True  a837cd759230f4e196d1645a95d933f15d9edc3c0d29c4...   \n",
       "5     6  False   False  42c64a565ee82d2c1c67178d4b080241b49f6b651e0c50...   \n",
       "6     7  False   False  6946deaecc721c0d1558907440cbdc0234ecf444585f5a...   \n",
       "7     8  False    True  e540c36c91fecf4be765b1a61e12b367e812885a9bfff0...   \n",
       "8     9  False   False  584533f18a43aee1e75e60504755925c22a3de2d2c316e...   \n",
       "9    10  False   False  0a43e76ebfedcfe87ef86101690c0bfa8e1e99e4f074d5...   \n",
       "\n",
       "          character/name  character/level character/class  character/score  \\\n",
       "0            EchSinBojiy              100       Ascendant             16.0   \n",
       "1           Lerris_Heist              100       Occultist              1.0   \n",
       "2   ㆍtvㆍgodlevelaccountㆍ              100         Deadeye             11.0   \n",
       "3        Pink_BatCurglar              100       Trickster              NaN   \n",
       "4        Llew_BatCurglar              100        Guardian             13.0   \n",
       "5       Broox_BatCurglar              100       Occultist              NaN   \n",
       "6        zanba_heist_ncg              100      Pathfinder              3.0   \n",
       "7           Alone_어Dick트              100       Trickster              5.0   \n",
       "8  검은사막모바일_대양업데이트_어Dick트              100       Occultist              NaN   \n",
       "9              MJ_어Dick트              100     Necromancer              NaN   \n",
       "\n",
       "   character/experience  character/depth/default  character/depth/solo  \\\n",
       "0            4250334444                      2.0                   0.0   \n",
       "1            4250334444                      NaN                   NaN   \n",
       "2            4250334444                      NaN                   NaN   \n",
       "3            4250334444                      NaN                   NaN   \n",
       "4            4250334444                     50.0                  50.0   \n",
       "5            4250334444                      NaN                   NaN   \n",
       "6            4250334444                      NaN                   NaN   \n",
       "7            4250334444                    290.0                 257.0   \n",
       "8            4250334444                      NaN                   NaN   \n",
       "9            4250334444                      NaN                   NaN   \n",
       "\n",
       "         account/name account/realm  account/challenges/total  \\\n",
       "0             Echpoch            pc                        11   \n",
       "1  BiologicalOrganism            pc                        36   \n",
       "2     GodLevelAccount            pc                         7   \n",
       "3        CrankyPants1            pc                        26   \n",
       "4             Kanveor            pc                        25   \n",
       "5               Broox            pc                        15   \n",
       "6            RQVandal            pc                        24   \n",
       "7           12kk34322            pc                        28   \n",
       "8                러시디노            pc                         4   \n",
       "9           glodarm12            pc                         7   \n",
       "\n",
       "  account/twitch/name account/twitch/stream/name account/twitch/stream/image  \\\n",
       "0                 NaN                        NaN                         NaN   \n",
       "1           arclerris                        NaN                         NaN   \n",
       "2     godlevelaccount                        NaN                         NaN   \n",
       "3             pinkblt                        NaN                         NaN   \n",
       "4            mawrhugs                        NaN                         NaN   \n",
       "5          multibroox                        NaN                         NaN   \n",
       "6            vandal_z                        NaN                         NaN   \n",
       "7             fpdlehs                        NaN                         NaN   \n",
       "8                 NaN                        NaN                         NaN   \n",
       "9                 NaN                        NaN                         NaN   \n",
       "\n",
       "  account/twitch/stream/status  \n",
       "0                          NaN  \n",
       "1                          NaN  \n",
       "2                          NaN  \n",
       "3                          NaN  \n",
       "4                          NaN  \n",
       "5                          NaN  \n",
       "6                          NaN  \n",
       "7                          NaN  \n",
       "8                          NaN  \n",
       "9                          NaN  "
      ]
     },
     "execution_count": 4,
     "metadata": {},
     "output_type": "execute_result"
    }
   ],
   "source": [
    "df_sc.head(10)"
   ]
  },
  {
   "cell_type": "markdown",
   "metadata": {},
   "source": [
    "# Exploring the data\n"
   ]
  },
  {
   "cell_type": "code",
   "execution_count": 5,
   "metadata": {
    "scrolled": true
   },
   "outputs": [
    {
     "data": {
      "text/plain": [
       "<matplotlib.axes._subplots.AxesSubplot at 0x178310eb048>"
      ]
     },
     "execution_count": 5,
     "metadata": {},
     "output_type": "execute_result"
    },
    {
     "data": {
      "image/png": "[encoded data removed]",
      "text/plain": [
       "<Figure size 432x288 with 1 Axes>"
      ]
     },
     "metadata": {
      "needs_background": "light"
     },
     "output_type": "display_data"
    }
   ],
   "source": [
    "sns.distplot(df_hc['account/challenges/total'], bins=40)"
   ]
  },
  {
   "cell_type": "code",
   "execution_count": 6,
   "metadata": {
    "scrolled": true
   },
   "outputs": [
    {
     "data": {
      "text/plain": [
       "<matplotlib.axes._subplots.AxesSubplot at 0x178324891d0>"
      ]
     },
     "execution_count": 6,
     "metadata": {},
     "output_type": "execute_result"
    },
    {
     "data": {
      "image/png": "[encoded data removed]",
      "text/plain": [
       "<Figure size 432x288 with 1 Axes>"
      ]
     },
     "metadata": {
      "needs_background": "light"
     },
     "output_type": "display_data"
    }
   ],
   "source": [
    "sns.distplot(df_sc['account/challenges/total'], bins=40)"
   ]
  },
  {
   "cell_type": "markdown",
   "metadata": {},
   "source": [
    "Looks like, among the top 200 Hardcore players most don't pursue challenges, having etiher around 36 or 25 challenges. For the top 200 Softcore players, on the other hand, a huge chunk of them attained all 40 challenges and the rest are distributed between 5 and 39 challenges. This is most likely due to the fact that on softcore one can't lose their character, so players have more time and opportunity to gear up and grind out more challenges."
   ]
  },
  {
   "cell_type": "markdown",
   "metadata": {},
   "source": [
    "There are also noticeable spikes at or around the values 12, 24 and 36 challenges on both charts, because 12, 24 and 36 are the milestones at which the three rewards for doing challenges are obtained."
   ]
  },
  {
   "cell_type": "code",
   "execution_count": 7,
   "metadata": {
    "scrolled": true
   },
   "outputs": [
    {
     "data": {
      "text/plain": [
       "<matplotlib.axes._subplots.AxesSubplot at 0x1783256b128>"
      ]
     },
     "execution_count": 7,
     "metadata": {},
     "output_type": "execute_result"
    },
    {
     "data": {
      "image/png": "[encoded data removed]",
      "text/plain": [
       "<Figure size 432x288 with 1 Axes>"
      ]
     },
     "metadata": {
      "needs_background": "light"
     },
     "output_type": "display_data"
    }
   ],
   "source": [
    "sns.countplot(y='character/class', data=df_hc, order=df_hc['character/class'].value_counts().index)"
   ]
  },
  {
   "cell_type": "code",
   "execution_count": 8,
   "metadata": {},
   "outputs": [
    {
     "data": {
      "text/plain": [
       "<matplotlib.axes._subplots.AxesSubplot at 0x17832579198>"
      ]
     },
     "execution_count": 8,
     "metadata": {},
     "output_type": "execute_result"
    },
    {
     "data": {
      "image/png": "[encoded data removed]",
      "text/plain": [
       "<Figure size 432x288 with 1 Axes>"
      ]
     },
     "metadata": {
      "needs_background": "light"
     },
     "output_type": "display_data"
    }
   ],
   "source": [
    "sns.countplot(y='character/class', data=df_sc, order=df_sc['character/class'].value_counts().index)"
   ]
  },
  {
   "cell_type": "markdown",
   "metadata": {},
   "source": [
    "As expected, Hardcore players prefer classes that offer better defensive options, utility and survivability, while the top softcore players go for classes with more direct damage"
   ]
  },
  {
   "cell_type": "code",
   "execution_count": 9,
   "metadata": {
    "scrolled": true
   },
   "outputs": [
    {
     "data": {
      "text/plain": [
       "<matplotlib.axes._subplots.AxesSubplot at 0x178326eda20>"
      ]
     },
     "execution_count": 9,
     "metadata": {},
     "output_type": "execute_result"
    },
    {
     "data": {
      "image/png": "[encoded data removed]",
      "text/plain": [
       "<Figure size 432x288 with 1 Axes>"
      ]
     },
     "metadata": {
      "needs_background": "light"
     },
     "output_type": "display_data"
    }
   ],
   "source": [
    "sns.countplot(df_hc['dead'])"
   ]
  },
  {
   "cell_type": "code",
   "execution_count": 10,
   "metadata": {},
   "outputs": [
    {
     "data": {
      "text/html": [
       "<div>\n",
       "<style scoped>\n",
       "    .dataframe tbody tr th:only-of-type {\n",
       "        vertical-align: middle;\n",
       "    }\n",
       "\n",
       "    .dataframe tbody tr th {\n",
       "        vertical-align: top;\n",
       "    }\n",
       "\n",
       "    .dataframe thead th {\n",
       "        text-align: right;\n",
       "    }\n",
       "</style>\n",
       "<table border=\"1\" class=\"dataframe\">\n",
       "  <thead>\n",
       "    <tr style=\"text-align: right;\">\n",
       "      <th></th>\n",
       "      <th>rank</th>\n",
       "      <th>dead</th>\n",
       "      <th>online</th>\n",
       "      <th>character/id</th>\n",
       "      <th>character/name</th>\n",
       "      <th>character/level</th>\n",
       "      <th>character/class</th>\n",
       "      <th>character/score</th>\n",
       "      <th>character/experience</th>\n",
       "      <th>character/depth/default</th>\n",
       "      <th>character/depth/solo</th>\n",
       "      <th>account/name</th>\n",
       "      <th>account/realm</th>\n",
       "      <th>account/challenges/total</th>\n",
       "      <th>account/twitch/name</th>\n",
       "      <th>account/twitch/stream/name</th>\n",
       "      <th>account/twitch/stream/image</th>\n",
       "      <th>account/twitch/stream/status</th>\n",
       "    </tr>\n",
       "  </thead>\n",
       "  <tbody>\n",
       "    <tr>\n",
       "      <th>125</th>\n",
       "      <td>126</td>\n",
       "      <td>False</td>\n",
       "      <td>False</td>\n",
       "      <td>6d3cb876038cb04c5e951cc5c1acf3fc99f8778c0cdd94...</td>\n",
       "      <td>PoorjoysㆍAsylum</td>\n",
       "      <td>100</td>\n",
       "      <td>Templar</td>\n",
       "      <td>NaN</td>\n",
       "      <td>4250334444</td>\n",
       "      <td>NaN</td>\n",
       "      <td>NaN</td>\n",
       "      <td>_Daybit_</td>\n",
       "      <td>pc</td>\n",
       "      <td>40</td>\n",
       "      <td>NaN</td>\n",
       "      <td>NaN</td>\n",
       "      <td>NaN</td>\n",
       "      <td>NaN</td>\n",
       "    </tr>\n",
       "  </tbody>\n",
       "</table>\n",
       "</div>"
      ],
      "text/plain": [
       "     rank   dead  online                                       character/id  \\\n",
       "125   126  False   False  6d3cb876038cb04c5e951cc5c1acf3fc99f8778c0cdd94...   \n",
       "\n",
       "      character/name  character/level character/class  character/score  \\\n",
       "125  PoorjoysㆍAsylum              100         Templar              NaN   \n",
       "\n",
       "     character/experience  character/depth/default  character/depth/solo  \\\n",
       "125            4250334444                      NaN                   NaN   \n",
       "\n",
       "    account/name account/realm  account/challenges/total account/twitch/name  \\\n",
       "125     _Daybit_            pc                        40                 NaN   \n",
       "\n",
       "    account/twitch/stream/name account/twitch/stream/image  \\\n",
       "125                        NaN                         NaN   \n",
       "\n",
       "    account/twitch/stream/status  \n",
       "125                          NaN  "
      ]
     },
     "execution_count": 10,
     "metadata": {},
     "output_type": "execute_result"
    }
   ],
   "source": [
    "df_sc[df_sc['character/class']=='Templar'].head() #THE MADLAD"
   ]
  },
  {
   "cell_type": "markdown",
   "metadata": {},
   "source": [
    "# Cleaning up a bit"
   ]
  },
  {
   "cell_type": "markdown",
   "metadata": {},
   "source": [
    "Firstly, let's take a look at the account/realm column. The column is redundant, because the data was gathered for pc accounts only, hence all of the values will be 'pc'. Let's check that this is the case."
   ]
  },
  {
   "cell_type": "code",
   "execution_count": 11,
   "metadata": {
    "scrolled": true
   },
   "outputs": [
    {
     "data": {
      "text/plain": [
       "array(['pc'], dtype=object)"
      ]
     },
     "execution_count": 11,
     "metadata": {},
     "output_type": "execute_result"
    }
   ],
   "source": [
    "df_hc['account/realm'].unique()"
   ]
  },
  {
   "cell_type": "code",
   "execution_count": 12,
   "metadata": {},
   "outputs": [
    {
     "data": {
      "text/plain": [
       "array(['pc'], dtype=object)"
      ]
     },
     "execution_count": 12,
     "metadata": {},
     "output_type": "execute_result"
    }
   ],
   "source": [
    "df_sc['account/realm'].unique()"
   ]
  },
  {
   "cell_type": "markdown",
   "metadata": {},
   "source": [
    "Looks like this column is safe to remove in both dataframes"
   ]
  },
  {
   "cell_type": "code",
   "execution_count": 13,
   "metadata": {},
   "outputs": [],
   "source": [
    "df_hc = df_hc.drop('account/realm',axis=1)\n",
    "df_sc = df_sc.drop('account/realm',axis=1)"
   ]
  },
  {
   "cell_type": "code",
   "execution_count": 14,
   "metadata": {},
   "outputs": [
    {
     "data": {
      "text/html": [
       "<div>\n",
       "<style scoped>\n",
       "    .dataframe tbody tr th:only-of-type {\n",
       "        vertical-align: middle;\n",
       "    }\n",
       "\n",
       "    .dataframe tbody tr th {\n",
       "        vertical-align: top;\n",
       "    }\n",
       "\n",
       "    .dataframe thead th {\n",
       "        text-align: right;\n",
       "    }\n",
       "</style>\n",
       "<table border=\"1\" class=\"dataframe\">\n",
       "  <thead>\n",
       "    <tr style=\"text-align: right;\">\n",
       "      <th></th>\n",
       "      <th>rank</th>\n",
       "      <th>dead</th>\n",
       "      <th>online</th>\n",
       "      <th>character/id</th>\n",
       "      <th>character/name</th>\n",
       "      <th>character/level</th>\n",
       "      <th>character/class</th>\n",
       "      <th>character/experience</th>\n",
       "      <th>character/depth/default</th>\n",
       "      <th>character/depth/solo</th>\n",
       "      <th>account/name</th>\n",
       "      <th>account/challenges/total</th>\n",
       "      <th>account/twitch/name</th>\n",
       "      <th>account/twitch/stream/name</th>\n",
       "      <th>account/twitch/stream/image</th>\n",
       "      <th>account/twitch/stream/status</th>\n",
       "      <th>character/score</th>\n",
       "    </tr>\n",
       "  </thead>\n",
       "  <tbody>\n",
       "    <tr>\n",
       "      <th>0</th>\n",
       "      <td>1</td>\n",
       "      <td>False</td>\n",
       "      <td>True</td>\n",
       "      <td>9abc423c0235c788db43c4c5cc74d4c6073ec64b0269a5...</td>\n",
       "      <td>Azimut_nHEISTits</td>\n",
       "      <td>100</td>\n",
       "      <td>Guardian</td>\n",
       "      <td>4250334444</td>\n",
       "      <td>2.0</td>\n",
       "      <td>0.0</td>\n",
       "      <td>blazedance</td>\n",
       "      <td>40</td>\n",
       "      <td>az1mut</td>\n",
       "      <td>NaN</td>\n",
       "      <td>NaN</td>\n",
       "      <td>NaN</td>\n",
       "      <td>NaN</td>\n",
       "    </tr>\n",
       "    <tr>\n",
       "      <th>1</th>\n",
       "      <td>2</td>\n",
       "      <td>False</td>\n",
       "      <td>True</td>\n",
       "      <td>e32a3ed26058f7519254a7b061ee8c5f7edb914850d878...</td>\n",
       "      <td>Toaster_nHEISTits</td>\n",
       "      <td>100</td>\n",
       "      <td>Assassin</td>\n",
       "      <td>4250334444</td>\n",
       "      <td>200.0</td>\n",
       "      <td>0.0</td>\n",
       "      <td>Toaster404</td>\n",
       "      <td>37</td>\n",
       "      <td>toaster404</td>\n",
       "      <td>Toaster404</td>\n",
       "      <td>https://static-cdn.jtvnw.net/previews-ttv/live...</td>\n",
       "      <td>| HC Trade | Chillymilly with Delirium |</td>\n",
       "      <td>NaN</td>\n",
       "    </tr>\n",
       "    <tr>\n",
       "      <th>2</th>\n",
       "      <td>3</td>\n",
       "      <td>False</td>\n",
       "      <td>True</td>\n",
       "      <td>f4e5d4a2108777edfcd46299903e10b3f2cb298000b366...</td>\n",
       "      <td>TesuckSuicideBoy</td>\n",
       "      <td>100</td>\n",
       "      <td>Trickster</td>\n",
       "      <td>4250334444</td>\n",
       "      <td>102.0</td>\n",
       "      <td>102.0</td>\n",
       "      <td>homffrontt</td>\n",
       "      <td>13</td>\n",
       "      <td>homffront</td>\n",
       "      <td>NaN</td>\n",
       "      <td>NaN</td>\n",
       "      <td>NaN</td>\n",
       "      <td>112.0</td>\n",
       "    </tr>\n",
       "    <tr>\n",
       "      <th>3</th>\n",
       "      <td>4</td>\n",
       "      <td>False</td>\n",
       "      <td>False</td>\n",
       "      <td>90b831d40227de0a441a9b418b8914792619d3039b9af3...</td>\n",
       "      <td>Nuclearhc</td>\n",
       "      <td>100</td>\n",
       "      <td>Occultist</td>\n",
       "      <td>4250334444</td>\n",
       "      <td>480.0</td>\n",
       "      <td>480.0</td>\n",
       "      <td>MakiseKurisuBestWaifu</td>\n",
       "      <td>21</td>\n",
       "      <td>nucl3arhc</td>\n",
       "      <td>NaN</td>\n",
       "      <td>NaN</td>\n",
       "      <td>NaN</td>\n",
       "      <td>27.0</td>\n",
       "    </tr>\n",
       "    <tr>\n",
       "      <th>4</th>\n",
       "      <td>5</td>\n",
       "      <td>False</td>\n",
       "      <td>True</td>\n",
       "      <td>353428b0c746f2bd6b9b01bef9384922a29412f520d2a7...</td>\n",
       "      <td>SHKOSSS</td>\n",
       "      <td>100</td>\n",
       "      <td>Trickster</td>\n",
       "      <td>4250334444</td>\n",
       "      <td>205.0</td>\n",
       "      <td>205.0</td>\n",
       "      <td>FairyLawQ</td>\n",
       "      <td>19</td>\n",
       "      <td>shanksss</td>\n",
       "      <td>NaN</td>\n",
       "      <td>NaN</td>\n",
       "      <td>NaN</td>\n",
       "      <td>17.0</td>\n",
       "    </tr>\n",
       "  </tbody>\n",
       "</table>\n",
       "</div>"
      ],
      "text/plain": [
       "   rank   dead  online                                       character/id  \\\n",
       "0     1  False    True  9abc423c0235c788db43c4c5cc74d4c6073ec64b0269a5...   \n",
       "1     2  False    True  e32a3ed26058f7519254a7b061ee8c5f7edb914850d878...   \n",
       "2     3  False    True  f4e5d4a2108777edfcd46299903e10b3f2cb298000b366...   \n",
       "3     4  False   False  90b831d40227de0a441a9b418b8914792619d3039b9af3...   \n",
       "4     5  False    True  353428b0c746f2bd6b9b01bef9384922a29412f520d2a7...   \n",
       "\n",
       "      character/name  character/level character/class  character/experience  \\\n",
       "0   Azimut_nHEISTits              100        Guardian            4250334444   \n",
       "1  Toaster_nHEISTits              100        Assassin            4250334444   \n",
       "2   TesuckSuicideBoy              100       Trickster            4250334444   \n",
       "3          Nuclearhc              100       Occultist            4250334444   \n",
       "4            SHKOSSS              100       Trickster            4250334444   \n",
       "\n",
       "   character/depth/default  character/depth/solo           account/name  \\\n",
       "0                      2.0                   0.0             blazedance   \n",
       "1                    200.0                   0.0             Toaster404   \n",
       "2                    102.0                 102.0             homffrontt   \n",
       "3                    480.0                 480.0  MakiseKurisuBestWaifu   \n",
       "4                    205.0                 205.0              FairyLawQ   \n",
       "\n",
       "   account/challenges/total account/twitch/name account/twitch/stream/name  \\\n",
       "0                        40              az1mut                        NaN   \n",
       "1                        37          toaster404                 Toaster404   \n",
       "2                        13           homffront                        NaN   \n",
       "3                        21           nucl3arhc                        NaN   \n",
       "4                        19            shanksss                        NaN   \n",
       "\n",
       "                         account/twitch/stream/image  \\\n",
       "0                                                NaN   \n",
       "1  https://static-cdn.jtvnw.net/previews-ttv/live...   \n",
       "2                                                NaN   \n",
       "3                                                NaN   \n",
       "4                                                NaN   \n",
       "\n",
       "               account/twitch/stream/status  character/score  \n",
       "0                                       NaN              NaN  \n",
       "1  | HC Trade | Chillymilly with Delirium |              NaN  \n",
       "2                                       NaN            112.0  \n",
       "3                                       NaN             27.0  \n",
       "4                                       NaN             17.0  "
      ]
     },
     "execution_count": 14,
     "metadata": {},
     "output_type": "execute_result"
    }
   ],
   "source": [
    "df_hc.head()"
   ]
  },
  {
   "cell_type": "markdown",
   "metadata": {},
   "source": [
    "The columns for stream title, stream image and stream status are not relevant for this analysis, so let's drop them as well\n"
   ]
  },
  {
   "cell_type": "code",
   "execution_count": 15,
   "metadata": {},
   "outputs": [
    {
     "data": {
      "text/html": [
       "<div>\n",
       "<style scoped>\n",
       "    .dataframe tbody tr th:only-of-type {\n",
       "        vertical-align: middle;\n",
       "    }\n",
       "\n",
       "    .dataframe tbody tr th {\n",
       "        vertical-align: top;\n",
       "    }\n",
       "\n",
       "    .dataframe thead th {\n",
       "        text-align: right;\n",
       "    }\n",
       "</style>\n",
       "<table border=\"1\" class=\"dataframe\">\n",
       "  <thead>\n",
       "    <tr style=\"text-align: right;\">\n",
       "      <th></th>\n",
       "      <th>rank</th>\n",
       "      <th>dead</th>\n",
       "      <th>online</th>\n",
       "      <th>character/id</th>\n",
       "      <th>character/name</th>\n",
       "      <th>character/level</th>\n",
       "      <th>character/class</th>\n",
       "      <th>character/experience</th>\n",
       "      <th>character/depth/default</th>\n",
       "      <th>character/depth/solo</th>\n",
       "      <th>account/name</th>\n",
       "      <th>account/challenges/total</th>\n",
       "      <th>account/twitch/name</th>\n",
       "      <th>character/score</th>\n",
       "    </tr>\n",
       "  </thead>\n",
       "  <tbody>\n",
       "    <tr>\n",
       "      <th>0</th>\n",
       "      <td>1</td>\n",
       "      <td>False</td>\n",
       "      <td>True</td>\n",
       "      <td>9abc423c0235c788db43c4c5cc74d4c6073ec64b0269a5...</td>\n",
       "      <td>Azimut_nHEISTits</td>\n",
       "      <td>100</td>\n",
       "      <td>Guardian</td>\n",
       "      <td>4250334444</td>\n",
       "      <td>2.0</td>\n",
       "      <td>0.0</td>\n",
       "      <td>blazedance</td>\n",
       "      <td>40</td>\n",
       "      <td>az1mut</td>\n",
       "      <td>NaN</td>\n",
       "    </tr>\n",
       "    <tr>\n",
       "      <th>1</th>\n",
       "      <td>2</td>\n",
       "      <td>False</td>\n",
       "      <td>True</td>\n",
       "      <td>e32a3ed26058f7519254a7b061ee8c5f7edb914850d878...</td>\n",
       "      <td>Toaster_nHEISTits</td>\n",
       "      <td>100</td>\n",
       "      <td>Assassin</td>\n",
       "      <td>4250334444</td>\n",
       "      <td>200.0</td>\n",
       "      <td>0.0</td>\n",
       "      <td>Toaster404</td>\n",
       "      <td>37</td>\n",
       "      <td>toaster404</td>\n",
       "      <td>NaN</td>\n",
       "    </tr>\n",
       "    <tr>\n",
       "      <th>2</th>\n",
       "      <td>3</td>\n",
       "      <td>False</td>\n",
       "      <td>True</td>\n",
       "      <td>f4e5d4a2108777edfcd46299903e10b3f2cb298000b366...</td>\n",
       "      <td>TesuckSuicideBoy</td>\n",
       "      <td>100</td>\n",
       "      <td>Trickster</td>\n",
       "      <td>4250334444</td>\n",
       "      <td>102.0</td>\n",
       "      <td>102.0</td>\n",
       "      <td>homffrontt</td>\n",
       "      <td>13</td>\n",
       "      <td>homffront</td>\n",
       "      <td>112.0</td>\n",
       "    </tr>\n",
       "    <tr>\n",
       "      <th>3</th>\n",
       "      <td>4</td>\n",
       "      <td>False</td>\n",
       "      <td>False</td>\n",
       "      <td>90b831d40227de0a441a9b418b8914792619d3039b9af3...</td>\n",
       "      <td>Nuclearhc</td>\n",
       "      <td>100</td>\n",
       "      <td>Occultist</td>\n",
       "      <td>4250334444</td>\n",
       "      <td>480.0</td>\n",
       "      <td>480.0</td>\n",
       "      <td>MakiseKurisuBestWaifu</td>\n",
       "      <td>21</td>\n",
       "      <td>nucl3arhc</td>\n",
       "      <td>27.0</td>\n",
       "    </tr>\n",
       "    <tr>\n",
       "      <th>4</th>\n",
       "      <td>5</td>\n",
       "      <td>False</td>\n",
       "      <td>True</td>\n",
       "      <td>353428b0c746f2bd6b9b01bef9384922a29412f520d2a7...</td>\n",
       "      <td>SHKOSSS</td>\n",
       "      <td>100</td>\n",
       "      <td>Trickster</td>\n",
       "      <td>4250334444</td>\n",
       "      <td>205.0</td>\n",
       "      <td>205.0</td>\n",
       "      <td>FairyLawQ</td>\n",
       "      <td>19</td>\n",
       "      <td>shanksss</td>\n",
       "      <td>17.0</td>\n",
       "    </tr>\n",
       "  </tbody>\n",
       "</table>\n",
       "</div>"
      ],
      "text/plain": [
       "   rank   dead  online                                       character/id  \\\n",
       "0     1  False    True  9abc423c0235c788db43c4c5cc74d4c6073ec64b0269a5...   \n",
       "1     2  False    True  e32a3ed26058f7519254a7b061ee8c5f7edb914850d878...   \n",
       "2     3  False    True  f4e5d4a2108777edfcd46299903e10b3f2cb298000b366...   \n",
       "3     4  False   False  90b831d40227de0a441a9b418b8914792619d3039b9af3...   \n",
       "4     5  False    True  353428b0c746f2bd6b9b01bef9384922a29412f520d2a7...   \n",
       "\n",
       "      character/name  character/level character/class  character/experience  \\\n",
       "0   Azimut_nHEISTits              100        Guardian            4250334444   \n",
       "1  Toaster_nHEISTits              100        Assassin            4250334444   \n",
       "2   TesuckSuicideBoy              100       Trickster            4250334444   \n",
       "3          Nuclearhc              100       Occultist            4250334444   \n",
       "4            SHKOSSS              100       Trickster            4250334444   \n",
       "\n",
       "   character/depth/default  character/depth/solo           account/name  \\\n",
       "0                      2.0                   0.0             blazedance   \n",
       "1                    200.0                   0.0             Toaster404   \n",
       "2                    102.0                 102.0             homffrontt   \n",
       "3                    480.0                 480.0  MakiseKurisuBestWaifu   \n",
       "4                    205.0                 205.0              FairyLawQ   \n",
       "\n",
       "   account/challenges/total account/twitch/name  character/score  \n",
       "0                        40              az1mut              NaN  \n",
       "1                        37          toaster404              NaN  \n",
       "2                        13           homffront            112.0  \n",
       "3                        21           nucl3arhc             27.0  \n",
       "4                        19            shanksss             17.0  "
      ]
     },
     "execution_count": 15,
     "metadata": {},
     "output_type": "execute_result"
    }
   ],
   "source": [
    "df_hc = df_hc.drop(['account/twitch/stream/name', 'account/twitch/stream/image', 'account/twitch/stream/status'],1)\n",
    "df_sc = df_sc.drop(['account/twitch/stream/name', 'account/twitch/stream/image', 'account/twitch/stream/status'],1)\n",
    "df_hc.head()"
   ]
  },
  {
   "cell_type": "code",
   "execution_count": 16,
   "metadata": {},
   "outputs": [
    {
     "data": {
      "text/html": [
       "<div>\n",
       "<style scoped>\n",
       "    .dataframe tbody tr th:only-of-type {\n",
       "        vertical-align: middle;\n",
       "    }\n",
       "\n",
       "    .dataframe tbody tr th {\n",
       "        vertical-align: top;\n",
       "    }\n",
       "\n",
       "    .dataframe thead th {\n",
       "        text-align: right;\n",
       "    }\n",
       "</style>\n",
       "<table border=\"1\" class=\"dataframe\">\n",
       "  <thead>\n",
       "    <tr style=\"text-align: right;\">\n",
       "      <th></th>\n",
       "      <th>rank</th>\n",
       "      <th>dead</th>\n",
       "      <th>online</th>\n",
       "      <th>character/id</th>\n",
       "      <th>character/name</th>\n",
       "      <th>character/level</th>\n",
       "      <th>character/class</th>\n",
       "      <th>character/score</th>\n",
       "      <th>character/experience</th>\n",
       "      <th>character/depth/default</th>\n",
       "      <th>character/depth/solo</th>\n",
       "      <th>account/name</th>\n",
       "      <th>account/challenges/total</th>\n",
       "      <th>account/twitch/name</th>\n",
       "    </tr>\n",
       "  </thead>\n",
       "  <tbody>\n",
       "    <tr>\n",
       "      <th>0</th>\n",
       "      <td>1</td>\n",
       "      <td>False</td>\n",
       "      <td>False</td>\n",
       "      <td>1ccd424aabfb385d20c306c3f6287dc58c4dfbed832e4e...</td>\n",
       "      <td>EchSinBojiy</td>\n",
       "      <td>100</td>\n",
       "      <td>Ascendant</td>\n",
       "      <td>16.0</td>\n",
       "      <td>4250334444</td>\n",
       "      <td>2.0</td>\n",
       "      <td>0.0</td>\n",
       "      <td>Echpoch</td>\n",
       "      <td>11</td>\n",
       "      <td>NaN</td>\n",
       "    </tr>\n",
       "    <tr>\n",
       "      <th>1</th>\n",
       "      <td>2</td>\n",
       "      <td>False</td>\n",
       "      <td>False</td>\n",
       "      <td>f38fafd33ffdf3bea720a7b9e8d5763692ab86e1a6a325...</td>\n",
       "      <td>Lerris_Heist</td>\n",
       "      <td>100</td>\n",
       "      <td>Occultist</td>\n",
       "      <td>1.0</td>\n",
       "      <td>4250334444</td>\n",
       "      <td>NaN</td>\n",
       "      <td>NaN</td>\n",
       "      <td>BiologicalOrganism</td>\n",
       "      <td>36</td>\n",
       "      <td>arclerris</td>\n",
       "    </tr>\n",
       "    <tr>\n",
       "      <th>2</th>\n",
       "      <td>3</td>\n",
       "      <td>False</td>\n",
       "      <td>False</td>\n",
       "      <td>6c4fe8205ece4fb47d47d2b14a5d4bb17ee6f095321f2e...</td>\n",
       "      <td>ㆍtvㆍgodlevelaccountㆍ</td>\n",
       "      <td>100</td>\n",
       "      <td>Deadeye</td>\n",
       "      <td>11.0</td>\n",
       "      <td>4250334444</td>\n",
       "      <td>NaN</td>\n",
       "      <td>NaN</td>\n",
       "      <td>GodLevelAccount</td>\n",
       "      <td>7</td>\n",
       "      <td>godlevelaccount</td>\n",
       "    </tr>\n",
       "    <tr>\n",
       "      <th>3</th>\n",
       "      <td>4</td>\n",
       "      <td>False</td>\n",
       "      <td>True</td>\n",
       "      <td>1cec89b92eb22039cccb2d04763c4b537a2b100744c1d6...</td>\n",
       "      <td>Pink_BatCurglar</td>\n",
       "      <td>100</td>\n",
       "      <td>Trickster</td>\n",
       "      <td>NaN</td>\n",
       "      <td>4250334444</td>\n",
       "      <td>NaN</td>\n",
       "      <td>NaN</td>\n",
       "      <td>CrankyPants1</td>\n",
       "      <td>26</td>\n",
       "      <td>pinkblt</td>\n",
       "    </tr>\n",
       "    <tr>\n",
       "      <th>4</th>\n",
       "      <td>5</td>\n",
       "      <td>False</td>\n",
       "      <td>True</td>\n",
       "      <td>a837cd759230f4e196d1645a95d933f15d9edc3c0d29c4...</td>\n",
       "      <td>Llew_BatCurglar</td>\n",
       "      <td>100</td>\n",
       "      <td>Guardian</td>\n",
       "      <td>13.0</td>\n",
       "      <td>4250334444</td>\n",
       "      <td>50.0</td>\n",
       "      <td>50.0</td>\n",
       "      <td>Kanveor</td>\n",
       "      <td>25</td>\n",
       "      <td>mawrhugs</td>\n",
       "    </tr>\n",
       "  </tbody>\n",
       "</table>\n",
       "</div>"
      ],
      "text/plain": [
       "   rank   dead  online                                       character/id  \\\n",
       "0     1  False   False  1ccd424aabfb385d20c306c3f6287dc58c4dfbed832e4e...   \n",
       "1     2  False   False  f38fafd33ffdf3bea720a7b9e8d5763692ab86e1a6a325...   \n",
       "2     3  False   False  6c4fe8205ece4fb47d47d2b14a5d4bb17ee6f095321f2e...   \n",
       "3     4  False    True  1cec89b92eb22039cccb2d04763c4b537a2b100744c1d6...   \n",
       "4     5  False    True  a837cd759230f4e196d1645a95d933f15d9edc3c0d29c4...   \n",
       "\n",
       "         character/name  character/level character/class  character/score  \\\n",
       "0           EchSinBojiy              100       Ascendant             16.0   \n",
       "1          Lerris_Heist              100       Occultist              1.0   \n",
       "2  ㆍtvㆍgodlevelaccountㆍ              100         Deadeye             11.0   \n",
       "3       Pink_BatCurglar              100       Trickster              NaN   \n",
       "4       Llew_BatCurglar              100        Guardian             13.0   \n",
       "\n",
       "   character/experience  character/depth/default  character/depth/solo  \\\n",
       "0            4250334444                      2.0                   0.0   \n",
       "1            4250334444                      NaN                   NaN   \n",
       "2            4250334444                      NaN                   NaN   \n",
       "3            4250334444                      NaN                   NaN   \n",
       "4            4250334444                     50.0                  50.0   \n",
       "\n",
       "         account/name  account/challenges/total account/twitch/name  \n",
       "0             Echpoch                        11                 NaN  \n",
       "1  BiologicalOrganism                        36           arclerris  \n",
       "2     GodLevelAccount                         7     godlevelaccount  \n",
       "3        CrankyPants1                        26             pinkblt  \n",
       "4             Kanveor                        25            mawrhugs  "
      ]
     },
     "execution_count": 16,
     "metadata": {},
     "output_type": "execute_result"
    }
   ],
   "source": [
    "df_sc.head()"
   ]
  },
  {
   "cell_type": "markdown",
   "metadata": {},
   "source": [
    "For some reason, the character/score column is in different spots in the two dataframes. Let's move it to the end of the softcore dataframe."
   ]
  },
  {
   "cell_type": "code",
   "execution_count": 17,
   "metadata": {},
   "outputs": [
    {
     "data": {
      "text/html": [
       "<div>\n",
       "<style scoped>\n",
       "    .dataframe tbody tr th:only-of-type {\n",
       "        vertical-align: middle;\n",
       "    }\n",
       "\n",
       "    .dataframe tbody tr th {\n",
       "        vertical-align: top;\n",
       "    }\n",
       "\n",
       "    .dataframe thead th {\n",
       "        text-align: right;\n",
       "    }\n",
       "</style>\n",
       "<table border=\"1\" class=\"dataframe\">\n",
       "  <thead>\n",
       "    <tr style=\"text-align: right;\">\n",
       "      <th></th>\n",
       "      <th>rank</th>\n",
       "      <th>dead</th>\n",
       "      <th>online</th>\n",
       "      <th>character/id</th>\n",
       "      <th>character/name</th>\n",
       "      <th>character/level</th>\n",
       "      <th>character/class</th>\n",
       "      <th>character/experience</th>\n",
       "      <th>character/depth/default</th>\n",
       "      <th>character/depth/solo</th>\n",
       "      <th>account/name</th>\n",
       "      <th>account/challenges/total</th>\n",
       "      <th>account/twitch/name</th>\n",
       "      <th>character/score</th>\n",
       "    </tr>\n",
       "  </thead>\n",
       "  <tbody>\n",
       "    <tr>\n",
       "      <th>0</th>\n",
       "      <td>1</td>\n",
       "      <td>False</td>\n",
       "      <td>False</td>\n",
       "      <td>1ccd424aabfb385d20c306c3f6287dc58c4dfbed832e4e...</td>\n",
       "      <td>EchSinBojiy</td>\n",
       "      <td>100</td>\n",
       "      <td>Ascendant</td>\n",
       "      <td>4250334444</td>\n",
       "      <td>2.0</td>\n",
       "      <td>0.0</td>\n",
       "      <td>Echpoch</td>\n",
       "      <td>11</td>\n",
       "      <td>NaN</td>\n",
       "      <td>16.0</td>\n",
       "    </tr>\n",
       "    <tr>\n",
       "      <th>1</th>\n",
       "      <td>2</td>\n",
       "      <td>False</td>\n",
       "      <td>False</td>\n",
       "      <td>f38fafd33ffdf3bea720a7b9e8d5763692ab86e1a6a325...</td>\n",
       "      <td>Lerris_Heist</td>\n",
       "      <td>100</td>\n",
       "      <td>Occultist</td>\n",
       "      <td>4250334444</td>\n",
       "      <td>NaN</td>\n",
       "      <td>NaN</td>\n",
       "      <td>BiologicalOrganism</td>\n",
       "      <td>36</td>\n",
       "      <td>arclerris</td>\n",
       "      <td>1.0</td>\n",
       "    </tr>\n",
       "    <tr>\n",
       "      <th>2</th>\n",
       "      <td>3</td>\n",
       "      <td>False</td>\n",
       "      <td>False</td>\n",
       "      <td>6c4fe8205ece4fb47d47d2b14a5d4bb17ee6f095321f2e...</td>\n",
       "      <td>ㆍtvㆍgodlevelaccountㆍ</td>\n",
       "      <td>100</td>\n",
       "      <td>Deadeye</td>\n",
       "      <td>4250334444</td>\n",
       "      <td>NaN</td>\n",
       "      <td>NaN</td>\n",
       "      <td>GodLevelAccount</td>\n",
       "      <td>7</td>\n",
       "      <td>godlevelaccount</td>\n",
       "      <td>11.0</td>\n",
       "    </tr>\n",
       "    <tr>\n",
       "      <th>3</th>\n",
       "      <td>4</td>\n",
       "      <td>False</td>\n",
       "      <td>True</td>\n",
       "      <td>1cec89b92eb22039cccb2d04763c4b537a2b100744c1d6...</td>\n",
       "      <td>Pink_BatCurglar</td>\n",
       "      <td>100</td>\n",
       "      <td>Trickster</td>\n",
       "      <td>4250334444</td>\n",
       "      <td>NaN</td>\n",
       "      <td>NaN</td>\n",
       "      <td>CrankyPants1</td>\n",
       "      <td>26</td>\n",
       "      <td>pinkblt</td>\n",
       "      <td>NaN</td>\n",
       "    </tr>\n",
       "    <tr>\n",
       "      <th>4</th>\n",
       "      <td>5</td>\n",
       "      <td>False</td>\n",
       "      <td>True</td>\n",
       "      <td>a837cd759230f4e196d1645a95d933f15d9edc3c0d29c4...</td>\n",
       "      <td>Llew_BatCurglar</td>\n",
       "      <td>100</td>\n",
       "      <td>Guardian</td>\n",
       "      <td>4250334444</td>\n",
       "      <td>50.0</td>\n",
       "      <td>50.0</td>\n",
       "      <td>Kanveor</td>\n",
       "      <td>25</td>\n",
       "      <td>mawrhugs</td>\n",
       "      <td>13.0</td>\n",
       "    </tr>\n",
       "  </tbody>\n",
       "</table>\n",
       "</div>"
      ],
      "text/plain": [
       "   rank   dead  online                                       character/id  \\\n",
       "0     1  False   False  1ccd424aabfb385d20c306c3f6287dc58c4dfbed832e4e...   \n",
       "1     2  False   False  f38fafd33ffdf3bea720a7b9e8d5763692ab86e1a6a325...   \n",
       "2     3  False   False  6c4fe8205ece4fb47d47d2b14a5d4bb17ee6f095321f2e...   \n",
       "3     4  False    True  1cec89b92eb22039cccb2d04763c4b537a2b100744c1d6...   \n",
       "4     5  False    True  a837cd759230f4e196d1645a95d933f15d9edc3c0d29c4...   \n",
       "\n",
       "         character/name  character/level character/class  \\\n",
       "0           EchSinBojiy              100       Ascendant   \n",
       "1          Lerris_Heist              100       Occultist   \n",
       "2  ㆍtvㆍgodlevelaccountㆍ              100         Deadeye   \n",
       "3       Pink_BatCurglar              100       Trickster   \n",
       "4       Llew_BatCurglar              100        Guardian   \n",
       "\n",
       "   character/experience  character/depth/default  character/depth/solo  \\\n",
       "0            4250334444                      2.0                   0.0   \n",
       "1            4250334444                      NaN                   NaN   \n",
       "2            4250334444                      NaN                   NaN   \n",
       "3            4250334444                      NaN                   NaN   \n",
       "4            4250334444                     50.0                  50.0   \n",
       "\n",
       "         account/name  account/challenges/total account/twitch/name  \\\n",
       "0             Echpoch                        11                 NaN   \n",
       "1  BiologicalOrganism                        36           arclerris   \n",
       "2     GodLevelAccount                         7     godlevelaccount   \n",
       "3        CrankyPants1                        26             pinkblt   \n",
       "4             Kanveor                        25            mawrhugs   \n",
       "\n",
       "   character/score  \n",
       "0             16.0  \n",
       "1              1.0  \n",
       "2             11.0  \n",
       "3              NaN  \n",
       "4             13.0  "
      ]
     },
     "execution_count": 17,
     "metadata": {},
     "output_type": "execute_result"
    }
   ],
   "source": [
    "cols = list(df_sc)\n",
    "cols.remove('character/score')\n",
    "cols.append('character/score')\n",
    "df_sc = df_sc.loc[:,cols]\n",
    "df_sc.head()"
   ]
  },
  {
   "cell_type": "markdown",
   "metadata": {},
   "source": [
    "Now let's rename the columns to something more user friendly"
   ]
  },
  {
   "cell_type": "code",
   "execution_count": 18,
   "metadata": {},
   "outputs": [
    {
     "data": {
      "text/html": [
       "<div>\n",
       "<style scoped>\n",
       "    .dataframe tbody tr th:only-of-type {\n",
       "        vertical-align: middle;\n",
       "    }\n",
       "\n",
       "    .dataframe tbody tr th {\n",
       "        vertical-align: top;\n",
       "    }\n",
       "\n",
       "    .dataframe thead th {\n",
       "        text-align: right;\n",
       "    }\n",
       "</style>\n",
       "<table border=\"1\" class=\"dataframe\">\n",
       "  <thead>\n",
       "    <tr style=\"text-align: right;\">\n",
       "      <th></th>\n",
       "      <th>Rank</th>\n",
       "      <th>Dead</th>\n",
       "      <th>Online</th>\n",
       "      <th>CharacterId</th>\n",
       "      <th>CharacterName</th>\n",
       "      <th>Level</th>\n",
       "      <th>Class</th>\n",
       "      <th>Experience</th>\n",
       "      <th>DelveDepth</th>\n",
       "      <th>SoloDelveDepth</th>\n",
       "      <th>AccountName</th>\n",
       "      <th>Challenges</th>\n",
       "      <th>Twitch</th>\n",
       "      <th>Score</th>\n",
       "    </tr>\n",
       "  </thead>\n",
       "  <tbody>\n",
       "    <tr>\n",
       "      <th>0</th>\n",
       "      <td>1</td>\n",
       "      <td>False</td>\n",
       "      <td>True</td>\n",
       "      <td>9abc423c0235c788db43c4c5cc74d4c6073ec64b0269a5...</td>\n",
       "      <td>Azimut_nHEISTits</td>\n",
       "      <td>100</td>\n",
       "      <td>Guardian</td>\n",
       "      <td>4250334444</td>\n",
       "      <td>2.0</td>\n",
       "      <td>0.0</td>\n",
       "      <td>blazedance</td>\n",
       "      <td>40</td>\n",
       "      <td>az1mut</td>\n",
       "      <td>NaN</td>\n",
       "    </tr>\n",
       "    <tr>\n",
       "      <th>1</th>\n",
       "      <td>2</td>\n",
       "      <td>False</td>\n",
       "      <td>True</td>\n",
       "      <td>e32a3ed26058f7519254a7b061ee8c5f7edb914850d878...</td>\n",
       "      <td>Toaster_nHEISTits</td>\n",
       "      <td>100</td>\n",
       "      <td>Assassin</td>\n",
       "      <td>4250334444</td>\n",
       "      <td>200.0</td>\n",
       "      <td>0.0</td>\n",
       "      <td>Toaster404</td>\n",
       "      <td>37</td>\n",
       "      <td>toaster404</td>\n",
       "      <td>NaN</td>\n",
       "    </tr>\n",
       "    <tr>\n",
       "      <th>2</th>\n",
       "      <td>3</td>\n",
       "      <td>False</td>\n",
       "      <td>True</td>\n",
       "      <td>f4e5d4a2108777edfcd46299903e10b3f2cb298000b366...</td>\n",
       "      <td>TesuckSuicideBoy</td>\n",
       "      <td>100</td>\n",
       "      <td>Trickster</td>\n",
       "      <td>4250334444</td>\n",
       "      <td>102.0</td>\n",
       "      <td>102.0</td>\n",
       "      <td>homffrontt</td>\n",
       "      <td>13</td>\n",
       "      <td>homffront</td>\n",
       "      <td>112.0</td>\n",
       "    </tr>\n",
       "    <tr>\n",
       "      <th>3</th>\n",
       "      <td>4</td>\n",
       "      <td>False</td>\n",
       "      <td>False</td>\n",
       "      <td>90b831d40227de0a441a9b418b8914792619d3039b9af3...</td>\n",
       "      <td>Nuclearhc</td>\n",
       "      <td>100</td>\n",
       "      <td>Occultist</td>\n",
       "      <td>4250334444</td>\n",
       "      <td>480.0</td>\n",
       "      <td>480.0</td>\n",
       "      <td>MakiseKurisuBestWaifu</td>\n",
       "      <td>21</td>\n",
       "      <td>nucl3arhc</td>\n",
       "      <td>27.0</td>\n",
       "    </tr>\n",
       "    <tr>\n",
       "      <th>4</th>\n",
       "      <td>5</td>\n",
       "      <td>False</td>\n",
       "      <td>True</td>\n",
       "      <td>353428b0c746f2bd6b9b01bef9384922a29412f520d2a7...</td>\n",
       "      <td>SHKOSSS</td>\n",
       "      <td>100</td>\n",
       "      <td>Trickster</td>\n",
       "      <td>4250334444</td>\n",
       "      <td>205.0</td>\n",
       "      <td>205.0</td>\n",
       "      <td>FairyLawQ</td>\n",
       "      <td>19</td>\n",
       "      <td>shanksss</td>\n",
       "      <td>17.0</td>\n",
       "    </tr>\n",
       "  </tbody>\n",
       "</table>\n",
       "</div>"
      ],
      "text/plain": [
       "   Rank   Dead  Online                                        CharacterId  \\\n",
       "0     1  False    True  9abc423c0235c788db43c4c5cc74d4c6073ec64b0269a5...   \n",
       "1     2  False    True  e32a3ed26058f7519254a7b061ee8c5f7edb914850d878...   \n",
       "2     3  False    True  f4e5d4a2108777edfcd46299903e10b3f2cb298000b366...   \n",
       "3     4  False   False  90b831d40227de0a441a9b418b8914792619d3039b9af3...   \n",
       "4     5  False    True  353428b0c746f2bd6b9b01bef9384922a29412f520d2a7...   \n",
       "\n",
       "       CharacterName  Level      Class  Experience  DelveDepth  \\\n",
       "0   Azimut_nHEISTits    100   Guardian  4250334444         2.0   \n",
       "1  Toaster_nHEISTits    100   Assassin  4250334444       200.0   \n",
       "2   TesuckSuicideBoy    100  Trickster  4250334444       102.0   \n",
       "3          Nuclearhc    100  Occultist  4250334444       480.0   \n",
       "4            SHKOSSS    100  Trickster  4250334444       205.0   \n",
       "\n",
       "   SoloDelveDepth            AccountName  Challenges      Twitch  Score  \n",
       "0             0.0             blazedance          40      az1mut    NaN  \n",
       "1             0.0             Toaster404          37  toaster404    NaN  \n",
       "2           102.0             homffrontt          13   homffront  112.0  \n",
       "3           480.0  MakiseKurisuBestWaifu          21   nucl3arhc   27.0  \n",
       "4           205.0              FairyLawQ          19    shanksss   17.0  "
      ]
     },
     "execution_count": 18,
     "metadata": {},
     "output_type": "execute_result"
    }
   ],
   "source": [
    "colnames = ['Rank', 'Dead', 'Online', 'CharacterId', 'CharacterName', 'Level', 'Class','Experience','DelveDepth','SoloDelveDepth','AccountName','Challenges','Twitch', 'Score']\n",
    "df_hc.columns = colnames\n",
    "df_sc.columns = colnames\n",
    "df_hc.head()"
   ]
  },
  {
   "cell_type": "code",
   "execution_count": 19,
   "metadata": {
    "scrolled": true
   },
   "outputs": [
    {
     "data": {
      "text/html": [
       "<div>\n",
       "<style scoped>\n",
       "    .dataframe tbody tr th:only-of-type {\n",
       "        vertical-align: middle;\n",
       "    }\n",
       "\n",
       "    .dataframe tbody tr th {\n",
       "        vertical-align: top;\n",
       "    }\n",
       "\n",
       "    .dataframe thead th {\n",
       "        text-align: right;\n",
       "    }\n",
       "</style>\n",
       "<table border=\"1\" class=\"dataframe\">\n",
       "  <thead>\n",
       "    <tr style=\"text-align: right;\">\n",
       "      <th></th>\n",
       "      <th>Rank</th>\n",
       "      <th>Dead</th>\n",
       "      <th>Online</th>\n",
       "      <th>CharacterId</th>\n",
       "      <th>CharacterName</th>\n",
       "      <th>Level</th>\n",
       "      <th>Class</th>\n",
       "      <th>Experience</th>\n",
       "      <th>DelveDepth</th>\n",
       "      <th>SoloDelveDepth</th>\n",
       "      <th>AccountName</th>\n",
       "      <th>Challenges</th>\n",
       "      <th>Twitch</th>\n",
       "      <th>Score</th>\n",
       "    </tr>\n",
       "  </thead>\n",
       "  <tbody>\n",
       "    <tr>\n",
       "      <th>0</th>\n",
       "      <td>1</td>\n",
       "      <td>False</td>\n",
       "      <td>False</td>\n",
       "      <td>1ccd424aabfb385d20c306c3f6287dc58c4dfbed832e4e...</td>\n",
       "      <td>EchSinBojiy</td>\n",
       "      <td>100</td>\n",
       "      <td>Ascendant</td>\n",
       "      <td>4250334444</td>\n",
       "      <td>2.0</td>\n",
       "      <td>0.0</td>\n",
       "      <td>Echpoch</td>\n",
       "      <td>11</td>\n",
       "      <td>NaN</td>\n",
       "      <td>16.0</td>\n",
       "    </tr>\n",
       "    <tr>\n",
       "      <th>1</th>\n",
       "      <td>2</td>\n",
       "      <td>False</td>\n",
       "      <td>False</td>\n",
       "      <td>f38fafd33ffdf3bea720a7b9e8d5763692ab86e1a6a325...</td>\n",
       "      <td>Lerris_Heist</td>\n",
       "      <td>100</td>\n",
       "      <td>Occultist</td>\n",
       "      <td>4250334444</td>\n",
       "      <td>NaN</td>\n",
       "      <td>NaN</td>\n",
       "      <td>BiologicalOrganism</td>\n",
       "      <td>36</td>\n",
       "      <td>arclerris</td>\n",
       "      <td>1.0</td>\n",
       "    </tr>\n",
       "    <tr>\n",
       "      <th>2</th>\n",
       "      <td>3</td>\n",
       "      <td>False</td>\n",
       "      <td>False</td>\n",
       "      <td>6c4fe8205ece4fb47d47d2b14a5d4bb17ee6f095321f2e...</td>\n",
       "      <td>ㆍtvㆍgodlevelaccountㆍ</td>\n",
       "      <td>100</td>\n",
       "      <td>Deadeye</td>\n",
       "      <td>4250334444</td>\n",
       "      <td>NaN</td>\n",
       "      <td>NaN</td>\n",
       "      <td>GodLevelAccount</td>\n",
       "      <td>7</td>\n",
       "      <td>godlevelaccount</td>\n",
       "      <td>11.0</td>\n",
       "    </tr>\n",
       "    <tr>\n",
       "      <th>3</th>\n",
       "      <td>4</td>\n",
       "      <td>False</td>\n",
       "      <td>True</td>\n",
       "      <td>1cec89b92eb22039cccb2d04763c4b537a2b100744c1d6...</td>\n",
       "      <td>Pink_BatCurglar</td>\n",
       "      <td>100</td>\n",
       "      <td>Trickster</td>\n",
       "      <td>4250334444</td>\n",
       "      <td>NaN</td>\n",
       "      <td>NaN</td>\n",
       "      <td>CrankyPants1</td>\n",
       "      <td>26</td>\n",
       "      <td>pinkblt</td>\n",
       "      <td>NaN</td>\n",
       "    </tr>\n",
       "    <tr>\n",
       "      <th>4</th>\n",
       "      <td>5</td>\n",
       "      <td>False</td>\n",
       "      <td>True</td>\n",
       "      <td>a837cd759230f4e196d1645a95d933f15d9edc3c0d29c4...</td>\n",
       "      <td>Llew_BatCurglar</td>\n",
       "      <td>100</td>\n",
       "      <td>Guardian</td>\n",
       "      <td>4250334444</td>\n",
       "      <td>50.0</td>\n",
       "      <td>50.0</td>\n",
       "      <td>Kanveor</td>\n",
       "      <td>25</td>\n",
       "      <td>mawrhugs</td>\n",
       "      <td>13.0</td>\n",
       "    </tr>\n",
       "  </tbody>\n",
       "</table>\n",
       "</div>"
      ],
      "text/plain": [
       "   Rank   Dead  Online                                        CharacterId  \\\n",
       "0     1  False   False  1ccd424aabfb385d20c306c3f6287dc58c4dfbed832e4e...   \n",
       "1     2  False   False  f38fafd33ffdf3bea720a7b9e8d5763692ab86e1a6a325...   \n",
       "2     3  False   False  6c4fe8205ece4fb47d47d2b14a5d4bb17ee6f095321f2e...   \n",
       "3     4  False    True  1cec89b92eb22039cccb2d04763c4b537a2b100744c1d6...   \n",
       "4     5  False    True  a837cd759230f4e196d1645a95d933f15d9edc3c0d29c4...   \n",
       "\n",
       "          CharacterName  Level      Class  Experience  DelveDepth  \\\n",
       "0           EchSinBojiy    100  Ascendant  4250334444         2.0   \n",
       "1          Lerris_Heist    100  Occultist  4250334444         NaN   \n",
       "2  ㆍtvㆍgodlevelaccountㆍ    100    Deadeye  4250334444         NaN   \n",
       "3       Pink_BatCurglar    100  Trickster  4250334444         NaN   \n",
       "4       Llew_BatCurglar    100   Guardian  4250334444        50.0   \n",
       "\n",
       "   SoloDelveDepth         AccountName  Challenges           Twitch  Score  \n",
       "0             0.0             Echpoch          11              NaN   16.0  \n",
       "1             NaN  BiologicalOrganism          36        arclerris    1.0  \n",
       "2             NaN     GodLevelAccount           7  godlevelaccount   11.0  \n",
       "3             NaN        CrankyPants1          26          pinkblt    NaN  \n",
       "4            50.0             Kanveor          25         mawrhugs   13.0  "
      ]
     },
     "execution_count": 19,
     "metadata": {},
     "output_type": "execute_result"
    }
   ],
   "source": [
    "df_sc.head()"
   ]
  },
  {
   "cell_type": "markdown",
   "metadata": {},
   "source": [
    "Let's Take a look at the missing values in our datasets."
   ]
  },
  {
   "cell_type": "code",
   "execution_count": 20,
   "metadata": {},
   "outputs": [
    {
     "data": {
      "text/plain": [
       "Rank               0\n",
       "Dead               0\n",
       "Online             0\n",
       "CharacterId        0\n",
       "CharacterName      0\n",
       "Level              0\n",
       "Class              0\n",
       "Experience         0\n",
       "DelveDepth        20\n",
       "SoloDelveDepth    20\n",
       "AccountName        0\n",
       "Challenges         0\n",
       "Twitch            48\n",
       "Score             68\n",
       "dtype: int64"
      ]
     },
     "execution_count": 20,
     "metadata": {},
     "output_type": "execute_result"
    }
   ],
   "source": [
    "df_hc.isnull().sum()"
   ]
  },
  {
   "cell_type": "code",
   "execution_count": 21,
   "metadata": {},
   "outputs": [
    {
     "data": {
      "text/plain": [
       "Rank               0\n",
       "Dead               0\n",
       "Online             0\n",
       "CharacterId        0\n",
       "CharacterName      0\n",
       "Level              0\n",
       "Class              0\n",
       "Experience         0\n",
       "DelveDepth        39\n",
       "SoloDelveDepth    39\n",
       "AccountName        0\n",
       "Challenges         0\n",
       "Twitch            81\n",
       "Score             75\n",
       "dtype: int64"
      ]
     },
     "execution_count": 21,
     "metadata": {},
     "output_type": "execute_result"
    }
   ],
   "source": [
    "df_sc.isnull().sum()"
   ]
  },
  {
   "cell_type": "markdown",
   "metadata": {},
   "source": [
    "We have some missing data in the DelveDepth, SoloDelveDepth, Twitch and Score columns. The missing values in the Twitch column are easily explained - not all players have a twitch account linked to their path of exile profile. These values should be left empty. For DelveDepth and SoloDelveDepth, if a value is missing it most likely means the character did not do any Delve content. Because all characters start out at Delve depth 0, it would be acceptable to replace these missing values with zeros. \n"
   ]
  },
  {
   "cell_type": "markdown",
   "metadata": {},
   "source": [
    "!   As for the Score column, it's a bit of a mystery. As of writing this, I could not find what it means. For now, this column will remain untouched until I can get more information about it."
   ]
  },
  {
   "cell_type": "code",
   "execution_count": 22,
   "metadata": {},
   "outputs": [
    {
     "data": {
      "text/plain": [
       "Rank               0\n",
       "Dead               0\n",
       "Online             0\n",
       "CharacterId        0\n",
       "CharacterName      0\n",
       "Level              0\n",
       "Class              0\n",
       "Experience         0\n",
       "DelveDepth         0\n",
       "SoloDelveDepth     0\n",
       "AccountName        0\n",
       "Challenges         0\n",
       "Twitch            48\n",
       "Score             68\n",
       "dtype: int64"
      ]
     },
     "execution_count": 22,
     "metadata": {},
     "output_type": "execute_result"
    }
   ],
   "source": [
    "df_hc[['DelveDepth', 'SoloDelveDepth']] = df_hc[['DelveDepth', 'SoloDelveDepth']].fillna(0)\n",
    "df_sc[['DelveDepth', 'SoloDelveDepth']] = df_sc[['DelveDepth', 'SoloDelveDepth']].fillna(0)\n",
    "df_hc.isnull().sum()"
   ]
  },
  {
   "cell_type": "code",
   "execution_count": 23,
   "metadata": {},
   "outputs": [
    {
     "data": {
      "text/plain": [
       "Rank               0\n",
       "Dead               0\n",
       "Online             0\n",
       "CharacterId        0\n",
       "CharacterName      0\n",
       "Level              0\n",
       "Class              0\n",
       "Experience         0\n",
       "DelveDepth         0\n",
       "SoloDelveDepth     0\n",
       "AccountName        0\n",
       "Challenges         0\n",
       "Twitch            81\n",
       "Score             75\n",
       "dtype: int64"
      ]
     },
     "execution_count": 23,
     "metadata": {},
     "output_type": "execute_result"
    }
   ],
   "source": [
    "df_sc.isnull().sum()"
   ]
  },
  {
   "cell_type": "markdown",
   "metadata": {},
   "source": [
    "#  Some delving statistics"
   ]
  },
  {
   "cell_type": "code",
   "execution_count": 26,
   "metadata": {},
   "outputs": [
    {
     "data": {
      "text/plain": [
       "<matplotlib.axes._subplots.AxesSubplot at 0x178328a5e80>"
      ]
     },
     "execution_count": 26,
     "metadata": {},
     "output_type": "execute_result"
    },
    {
     "data": {
      "image/png": "[encoded data removed]",
      "text/plain": [
       "<Figure size 432x288 with 1 Axes>"
      ]
     },
     "metadata": {
      "needs_background": "light"
     },
     "output_type": "display_data"
    }
   ],
   "source": [
    "sns.distplot(df_hc['DelveDepth'])"
   ]
  },
  {
   "cell_type": "code",
   "execution_count": 27,
   "metadata": {},
   "outputs": [
    {
     "data": {
      "text/plain": [
       "<matplotlib.axes._subplots.AxesSubplot at 0x1783293fba8>"
      ]
     },
     "execution_count": 27,
     "metadata": {},
     "output_type": "execute_result"
    },
    {
     "data": {
      "image/png": "[encoded data removed]",
      "text/plain": [
       "<Figure size 432x288 with 1 Axes>"
      ]
     },
     "metadata": {
      "needs_background": "light"
     },
     "output_type": "display_data"
    }
   ],
   "source": [
    "sns.distplot(df_sc['DelveDepth'])"
   ]
  },
  {
   "cell_type": "markdown",
   "metadata": {},
   "source": [
    "Looks like there are more than a few outliers, let's take a look"
   ]
  },
  {
   "cell_type": "code",
   "execution_count": 37,
   "metadata": {},
   "outputs": [
    {
     "data": {
      "text/plain": [
       "112    13065.0\n",
       "60      8368.0\n",
       "43      8139.0\n",
       "110     8001.0\n",
       "111     7777.0\n",
       "31      6057.0\n",
       "149     4396.0\n",
       "107     4254.0\n",
       "156     3914.0\n",
       "155     3611.0\n",
       "113     1943.0\n",
       "73      1490.0\n",
       "71      1456.0\n",
       "30      1388.0\n",
       "91      1312.0\n",
       "Name: DelveDepth, dtype: float64"
      ]
     },
     "execution_count": 37,
     "metadata": {},
     "output_type": "execute_result"
    }
   ],
   "source": [
    "Softcore_Delve = df_sc['DelveDepth']\n",
    "Softcore_Delve = Softcore_Delve.sort_values(ascending=False)\n",
    "Softcore_Delve.head(15)"
   ]
  },
  {
   "cell_type": "code",
   "execution_count": 40,
   "metadata": {},
   "outputs": [
    {
     "name": "stdout",
     "output_type": "stream",
     "text": [
      "SC Delve Mean: 493.36\n",
      "SC Delve Median: 69.0\n"
     ]
    }
   ],
   "source": [
    "print('SC Delve Mean: ' + str(df_sc['DelveDepth'].mean()))\n",
    "print('SC Delve Median: ' + str(df_sc['DelveDepth'].median()))"
   ]
  },
  {
   "cell_type": "markdown",
   "metadata": {},
   "source": [
    "The softcore delve depth data is skewed considerably towards high values. This can be explained by the fact that Path of Exile's laddder system ranks the players not only based on character experience, but based on delve and solo delve depth as well. Because delve awards a lot of experience, it is natural we see some pretty high delve depths in the top 200. \n",
    "\n",
    "Hardcore players. hovewer, generally don't go below depth 200-300. This is because the difficulty of delve scales infinitely and at larger depth values the risk of losing one's character grows substantially, so hardcore players prefer not to risk as much."
   ]
  },
  {
   "cell_type": "code",
   "execution_count": 42,
   "metadata": {},
   "outputs": [
    {
     "data": {
      "text/plain": [
       "<matplotlib.axes._subplots.AxesSubplot at 0x1783e20fa20>"
      ]
     },
     "execution_count": 42,
     "metadata": {},
     "output_type": "execute_result"
    },
    {
     "data": {
      "image/png": "[encoded data removed]",
      "text/plain": [
       "<Figure size 432x288 with 1 Axes>"
      ]
     },
     "metadata": {
      "needs_background": "light"
     },
     "output_type": "display_data"
    }
   ],
   "source": [
    "sns.distplot(df_hc['SoloDelveDepth'])"
   ]
  },
  {
   "cell_type": "code",
   "execution_count": 45,
   "metadata": {},
   "outputs": [
    {
     "data": {
      "text/plain": [
       "<matplotlib.axes._subplots.AxesSubplot at 0x1783e43e8d0>"
      ]
     },
     "execution_count": 45,
     "metadata": {},
     "output_type": "execute_result"
    },
    {
     "data": {
      "image/png": "[encoded data removed]",
      "text/plain": [
       "<Figure size 432x288 with 1 Axes>"
      ]
     },
     "metadata": {
      "needs_background": "light"
     },
     "output_type": "display_data"
    }
   ],
   "source": [
    "sns.distplot(df_sc['SoloDelveDepth'])"
   ]
  },
  {
   "cell_type": "markdown",
   "metadata": {},
   "source": [
    "Looks similar to DelveDepth (??????????????? ADD MORE HERE THIS AINT IT CHIEF)"
   ]
  },
  {
   "cell_type": "code",
   "execution_count": 74,
   "metadata": {},
   "outputs": [
    {
     "name": "stdout",
     "output_type": "stream",
     "text": [
      "Delvers in Hardcore: (180,)\n",
      "Solo Delvers in Hardcore: (146,)\n"
     ]
    }
   ],
   "source": [
    "solo_delvers_hc = df_hc['SoloDelveDepth'][df_hc['SoloDelveDepth'] > 0].shape\n",
    "delvers_hc = df_hc['DelveDepth'][df_hc['DelveDepth'] > 0].shape\n",
    "print('Delvers in Hardcore: ' + str(delvers_hc))\n",
    "print('Solo Delvers in Hardcore: ' + str(solo_delvers_hc))"
   ]
  },
  {
   "cell_type": "code",
   "execution_count": 73,
   "metadata": {},
   "outputs": [
    {
     "name": "stdout",
     "output_type": "stream",
     "text": [
      "Delvers in Softcore: (161,)\n",
      "Solo Delvers in Softcore: (105,)\n"
     ]
    }
   ],
   "source": [
    "solo_delvers_sc = df_sc['SoloDelveDepth'][df_sc['SoloDelveDepth'] > 0].shape\n",
    "delvers_sc = df_sc['DelveDepth'][df_sc['DelveDepth'] > 0].shape\n",
    "print('Delvers in Softcore: ' + str(delvers_sc))\n",
    "print('Solo Delvers in Softcore: ' + str(solo_delvers_sc))"
   ]
  },
  {
   "cell_type": "code",
   "execution_count": 100,
   "metadata": {},
   "outputs": [
    {
     "data": {
      "text/plain": [
       "42"
      ]
     },
     "execution_count": 100,
     "metadata": {},
     "output_type": "execute_result"
    }
   ],
   "source": [
    "df_hc[df_hc['DelveDepth'] - df_hc['SoloDelveDepth'] > 0].shape[0]"
   ]
  },
  {
   "cell_type": "code",
   "execution_count": 101,
   "metadata": {},
   "outputs": [
    {
     "data": {
      "text/plain": [
       "63"
      ]
     },
     "execution_count": 101,
     "metadata": {},
     "output_type": "execute_result"
    }
   ],
   "source": [
    "df_sc[df_sc['DelveDepth'] - df_sc['SoloDelveDepth'] > 0].shape[0]"
   ]
  },
  {
   "cell_type": "markdown",
   "metadata": {},
   "source": [
    "It appears that group delving is more popular in softcore. While that is, technically, true, let's consider looking at a difference between one's Solo and regular DelveDepth. This will allow us to see how many people out of those 200 are group delving long-term."
   ]
  },
  {
   "cell_type": "code",
   "execution_count": 102,
   "metadata": {},
   "outputs": [
    {
     "data": {
      "text/plain": [
       "39"
      ]
     },
     "execution_count": 102,
     "metadata": {},
     "output_type": "execute_result"
    }
   ],
   "source": [
    "df_hc[df_hc['DelveDepth'] - df_hc['SoloDelveDepth'] > 20].shape[0]"
   ]
  },
  {
   "cell_type": "code",
   "execution_count": 103,
   "metadata": {},
   "outputs": [
    {
     "data": {
      "text/plain": [
       "49"
      ]
     },
     "execution_count": 103,
     "metadata": {},
     "output_type": "execute_result"
    }
   ],
   "source": [
    "df_sc[df_sc['DelveDepth'] - df_sc['SoloDelveDepth'] > 20].shape[0]"
   ]
  },
  {
   "cell_type": "markdown",
   "metadata": {},
   "source": [
    "Sofcore is still in the lead"
   ]
  },
  {
   "cell_type": "code",
   "execution_count": 104,
   "metadata": {},
   "outputs": [
    {
     "data": {
      "text/plain": [
       "28"
      ]
     },
     "execution_count": 104,
     "metadata": {},
     "output_type": "execute_result"
    }
   ],
   "source": [
    "df_hc[df_hc['DelveDepth'] - df_hc['SoloDelveDepth'] > 50].shape[0]"
   ]
  },
  {
   "cell_type": "code",
   "execution_count": 105,
   "metadata": {},
   "outputs": [
    {
     "data": {
      "text/plain": [
       "10"
      ]
     },
     "execution_count": 105,
     "metadata": {},
     "output_type": "execute_result"
    }
   ],
   "source": [
    "df_sc[df_sc['DelveDepth'] - df_sc['SoloDelveDepth'] > 50].shape[0]"
   ]
  },
  {
   "cell_type": "markdown",
   "metadata": {},
   "source": [
    "As we increase this difference, hovewer, we can see that hardcore is leading more and more."
   ]
  },
  {
   "cell_type": "code",
   "execution_count": 106,
   "metadata": {},
   "outputs": [
    {
     "data": {
      "text/plain": [
       "25"
      ]
     },
     "execution_count": 106,
     "metadata": {},
     "output_type": "execute_result"
    }
   ],
   "source": [
    "df_hc[df_hc['DelveDepth'] - df_hc['SoloDelveDepth'] > 100].shape[0]"
   ]
  },
  {
   "cell_type": "code",
   "execution_count": 107,
   "metadata": {},
   "outputs": [
    {
     "data": {
      "text/plain": [
       "8"
      ]
     },
     "execution_count": 107,
     "metadata": {},
     "output_type": "execute_result"
    }
   ],
   "source": [
    "df_sc[df_sc['DelveDepth'] - df_sc['SoloDelveDepth'] > 100].shape[0]"
   ]
  },
  {
   "cell_type": "markdown",
   "metadata": {},
   "source": [
    "Let's create a new feature to try and visualise this difference\n",
    "\n"
   ]
  },
  {
   "cell_type": "code",
   "execution_count": 112,
   "metadata": {},
   "outputs": [],
   "source": [
    "df_hc['DelveDiff'] = df_hc['DelveDepth'] - df_hc['SoloDelveDepth']\n",
    "df_sc['DelveDiff'] = df_sc['DelveDepth'] - df_sc['SoloDelveDepth']"
   ]
  },
  {
   "cell_type": "code",
   "execution_count": 132,
   "metadata": {},
   "outputs": [
    {
     "data": {
      "text/plain": [
       "<matplotlib.axes._subplots.AxesSubplot at 0x1783f5d8a58>"
      ]
     },
     "execution_count": 132,
     "metadata": {},
     "output_type": "execute_result"
    },
    {
     "data": {
      "image/png": "[encoded data removed]",
      "text/plain": [
       "<Figure size 432x288 with 1 Axes>"
      ]
     },
     "metadata": {
      "needs_background": "light"
     },
     "output_type": "display_data"
    }
   ],
   "source": [
    "delvediff_hc = df_hc[df_hc['DelveDiff'] > 0]\n",
    "sns.distplot(delvediff_hc['DelveDiff'], bins=40)"
   ]
  },
  {
   "cell_type": "code",
   "execution_count": 147,
   "metadata": {},
   "outputs": [
    {
     "data": {
      "text/plain": [
       "<matplotlib.axes._subplots.AxesSubplot at 0x1783a3491d0>"
      ]
     },
     "execution_count": 147,
     "metadata": {},
     "output_type": "execute_result"
    },
    {
     "data": {
      "image/png": "[encoded data removed]",
      "text/plain": [
       "<Figure size 432x288 with 1 Axes>"
      ]
     },
     "metadata": {
      "needs_background": "light"
     },
     "output_type": "display_data"
    }
   ],
   "source": [
    "delvediff_sc = df_sc[df_sc['DelveDiff'] > 0]\n",
    "sns.distplot(delvediff_sc['DelveDiff'], bins=40)"
   ]
  },
  {
   "cell_type": "markdown",
   "metadata": {},
   "source": [
    "We can see those same outliers from before. This could mean that a portion of players with the biggest delve depth values achieved those values in a group."
   ]
  },
  {
   "cell_type": "code",
   "execution_count": 144,
   "metadata": {},
   "outputs": [
    {
     "data": {
      "text/plain": [
       "(6, 15)"
      ]
     },
     "execution_count": 144,
     "metadata": {},
     "output_type": "execute_result"
    }
   ],
   "source": [
    "delvediff_sc[delvediff_sc['DelveDiff'] > 1000].shape[0]"
   ]
  },
  {
   "cell_type": "code",
   "execution_count": 145,
   "metadata": {},
   "outputs": [
    {
     "data": {
      "text/plain": [
       "(63, 15)"
      ]
     },
     "execution_count": 145,
     "metadata": {},
     "output_type": "execute_result"
    }
   ],
   "source": [
    "delvediff_sc.shape"
   ]
  },
  {
   "cell_type": "markdown",
   "metadata": {},
   "source": [
    "The outliers (DelveDiff > 1000) account for about 9.5% of this data. We could drop them for this graph."
   ]
  },
  {
   "cell_type": "code",
   "execution_count": 146,
   "metadata": {},
   "outputs": [
    {
     "data": {
      "text/plain": [
       "<matplotlib.axes._subplots.AxesSubplot at 0x17840d55ac8>"
      ]
     },
     "execution_count": 146,
     "metadata": {},
     "output_type": "execute_result"
    },
    {
     "data": {
      "image/png": "[encoded data removed]",
      "text/plain": [
       "<Figure size 432x288 with 1 Axes>"
      ]
     },
     "metadata": {
      "needs_background": "light"
     },
     "output_type": "display_data"
    }
   ],
   "source": [
    "delvediff_sc = delvediff_sc[delvediff_sc['DelveDiff'] < 1000]\n",
    "sns.distplot(delvediff_sc['DelveDiff'], bins=40)"
   ]
  },
  {
   "cell_type": "markdown",
   "metadata": {},
   "source": [
    "From the graphs it does appear that hardcore players do generally do long-term delving exclusively in groups more than sofctore players."
   ]
  },
  {
   "cell_type": "markdown",
   "metadata": {},
   "source": [
    "# PLEASE NOTE THIS ANALYSIS OF THE DATASET IS PURELY FOR PRACTICE AS I REALISE BOTH DATASETS ARE TOO SMALL FOR ANY SERIOUS CONCLUSIONS. "
   ]
  }
 ],
 "metadata": {
  "kernelspec": {
   "display_name": "Python 3",
   "language": "python",
   "name": "python3"
  },
  "language_info": {
   "codemirror_mode": {
    "name": "ipython",
    "version": 3
   },
   "file_extension": ".py",
   "mimetype": "text/x-python",
   "name": "python",
   "nbconvert_exporter": "python",
   "pygments_lexer": "ipython3",
   "version": "3.7.3"
  }
 },
 "nbformat": 4,
 "nbformat_minor": 2
}
